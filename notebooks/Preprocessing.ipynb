{
  "nbformat": 4,
  "nbformat_minor": 0,
  "metadata": {
    "colab": {
      "provenance": []
    },
    "kernelspec": {
      "name": "python3",
      "display_name": "Python 3"
    },
    "language_info": {
      "name": "python"
    }
  },
  "cells": [
    {
      "cell_type": "code",
      "source": [
        "!pip install dabl"
      ],
      "metadata": {
        "id": "IIbm5tDZ2cmA",
        "colab": {
          "base_uri": "https://localhost:8080/"
        },
        "outputId": "2ff9766f-3719-4777-ccf3-82d60d3b5c92"
      },
      "execution_count": 1,
      "outputs": [
        {
          "output_type": "stream",
          "name": "stdout",
          "text": [
            "Looking in indexes: https://pypi.org/simple, https://us-python.pkg.dev/colab-wheels/public/simple/\n",
            "Collecting dabl\n",
            "  Downloading dabl-0.2.5-py3-none-any.whl (564 kB)\n",
            "\u001b[2K     \u001b[90m━━━━━━━━━━━━━━━━━━━━━━━━━━━━━━━━━━━━━━━\u001b[0m \u001b[32m564.3/564.3 KB\u001b[0m \u001b[31m6.4 MB/s\u001b[0m eta \u001b[36m0:00:00\u001b[0m\n",
            "\u001b[?25hRequirement already satisfied: seaborn in /usr/local/lib/python3.9/dist-packages (from dabl) (0.12.2)\n",
            "Requirement already satisfied: pandas in /usr/local/lib/python3.9/dist-packages (from dabl) (1.4.4)\n",
            "Requirement already satisfied: scipy in /usr/local/lib/python3.9/dist-packages (from dabl) (1.10.1)\n",
            "Requirement already satisfied: numpy in /usr/local/lib/python3.9/dist-packages (from dabl) (1.22.4)\n",
            "Requirement already satisfied: matplotlib>=3.5 in /usr/local/lib/python3.9/dist-packages (from dabl) (3.7.1)\n",
            "Requirement already satisfied: scikit-learn>=1.1 in /usr/local/lib/python3.9/dist-packages (from dabl) (1.2.2)\n",
            "Requirement already satisfied: packaging>=20.0 in /usr/local/lib/python3.9/dist-packages (from matplotlib>=3.5->dabl) (23.0)\n",
            "Requirement already satisfied: pyparsing>=2.3.1 in /usr/local/lib/python3.9/dist-packages (from matplotlib>=3.5->dabl) (3.0.9)\n",
            "Requirement already satisfied: pillow>=6.2.0 in /usr/local/lib/python3.9/dist-packages (from matplotlib>=3.5->dabl) (8.4.0)\n",
            "Requirement already satisfied: python-dateutil>=2.7 in /usr/local/lib/python3.9/dist-packages (from matplotlib>=3.5->dabl) (2.8.2)\n",
            "Requirement already satisfied: contourpy>=1.0.1 in /usr/local/lib/python3.9/dist-packages (from matplotlib>=3.5->dabl) (1.0.7)\n",
            "Requirement already satisfied: fonttools>=4.22.0 in /usr/local/lib/python3.9/dist-packages (from matplotlib>=3.5->dabl) (4.39.0)\n",
            "Requirement already satisfied: importlib-resources>=3.2.0 in /usr/local/lib/python3.9/dist-packages (from matplotlib>=3.5->dabl) (5.12.0)\n",
            "Requirement already satisfied: kiwisolver>=1.0.1 in /usr/local/lib/python3.9/dist-packages (from matplotlib>=3.5->dabl) (1.4.4)\n",
            "Requirement already satisfied: cycler>=0.10 in /usr/local/lib/python3.9/dist-packages (from matplotlib>=3.5->dabl) (0.11.0)\n",
            "Requirement already satisfied: joblib>=1.1.1 in /usr/local/lib/python3.9/dist-packages (from scikit-learn>=1.1->dabl) (1.1.1)\n",
            "Requirement already satisfied: threadpoolctl>=2.0.0 in /usr/local/lib/python3.9/dist-packages (from scikit-learn>=1.1->dabl) (3.1.0)\n",
            "Requirement already satisfied: pytz>=2020.1 in /usr/local/lib/python3.9/dist-packages (from pandas->dabl) (2022.7.1)\n",
            "Requirement already satisfied: zipp>=3.1.0 in /usr/local/lib/python3.9/dist-packages (from importlib-resources>=3.2.0->matplotlib>=3.5->dabl) (3.15.0)\n",
            "Requirement already satisfied: six>=1.5 in /usr/local/lib/python3.9/dist-packages (from python-dateutil>=2.7->matplotlib>=3.5->dabl) (1.15.0)\n",
            "Installing collected packages: dabl\n",
            "Successfully installed dabl-0.2.5\n"
          ]
        }
      ]
    },
    {
      "cell_type": "code",
      "source": [
        "# pip install git+https://github.com/RJT1990/pyflux"
      ],
      "metadata": {
        "id": "ZW-CAXMjs9bL"
      },
      "execution_count": 2,
      "outputs": []
    },
    {
      "cell_type": "code",
      "execution_count": 3,
      "metadata": {
        "id": "gGfHmkT6VYg9"
      },
      "outputs": [],
      "source": [
        "import pandas as pd\n",
        "import numpy as np\n",
        "import matplotlib.pyplot as plt\n",
        "import dabl\n",
        "import calendar\n",
        "import seaborn as sns\n",
        "\n",
        "from sklearn.preprocessing import MinMaxScaler\n",
        "from sklearn.model_selection import train_test_split\n",
        "from sklearn.tree import DecisionTreeRegressor\n",
        "from sklearn.metrics import accuracy_score\n",
        "from sklearn.preprocessing import LabelEncoder\n",
        "from sklearn.ensemble import RandomForestRegressor\n",
        "from sklearn.datasets import fetch_covtype\n",
        "from sklearn.model_selection import cross_validate\n",
        "from sklearn.model_selection import GridSearchCV\n",
        "import numpy as np\n",
        "import pickle\n",
        "\n",
        "import warnings\n",
        "warnings.filterwarnings('ignore')"
      ]
    },
    {
      "cell_type": "code",
      "source": [
        "import glob\n",
        "import os\n",
        "import pathlib\n",
        "import sys\n",
        "import logging\n",
        "import pickle\n",
        "from google.cloud import storage\n",
        "# from google.cloud import aiplatform\n",
        "import numpy as np\n",
        "import pandas as pd\n",
        "from prophet import Prophet\n",
        "import sklearn\n",
        "from sklearn.model_selection import train_test_split\n",
        "\n",
        "logging.getLogger('cmdstanpy').setLevel(logging.WARNING)"
      ],
      "metadata": {
        "id": "XB1eT5N4Vla3"
      },
      "execution_count": 4,
      "outputs": []
    },
    {
      "cell_type": "markdown",
      "source": [
        "# **Monthly figures for traffic accidents: Exploratory Data Analysis**\n",
        "### Monatszahlen Verkehrsunfälle"
      ],
      "metadata": {
        "id": "5-Mj2HHNdRLm"
      }
    },
    {
      "cell_type": "markdown",
      "source": [
        "**Data Description:** The data set *Monatszahlen Verkehrsunfälle* is a monthly traffic accident statistics dataset for Munich, Germany. The dataset covers the period from January 2015 to September 2022 and provides information on the number of traffic accidents that occurred in each month.  it figures contains the topics\n",
        "\n",
        "* traffic accidents\n",
        "* escape accidents (hit-and-run accidents)\n",
        "* alcohol accidents\n",
        "\n",
        "**Attribute Information:**\n",
        " In Dataset, it has 9 attributes\n",
        "* MONATSZAHL (Category)  *(categorical)*\n",
        "* AUSPRÄGUNG (Accident type) *(categorical)*\n",
        "* JAHR (Year)   *(numerical)*\n",
        "* MONAT (Month) *(numerical-string format)*\n",
        "* WERT (Value) *(numerical)*\n",
        "* VORJAHRESWERT (Previous_Year_value) *(numerical)*\n",
        "* VERÄND_VORMONAT_PROZENT (Change_previous_month_percent) *(numerical)*\n",
        "* VERÄND_VORJAHRESMONAT_PROZENT (Change_previous_month_percent) *(numerical)*\n",
        "* ZWÖLF_MONATE_MITTELWERT (twelve_month_mean) *(numerical)*\n",
        "\n",
        "The dataset can be used to analyze trends and patterns in traffic accidents in Munich over time, as well as to identify factors that contribute to the occurrence of traffic accidents, such as weather and road conditions.\n",
        "\n",
        "Ref: https://opendata.muenchen.de/dataset/monatszahlen-verkehrsunfaelle "
      ],
      "metadata": {
        "id": "T9WkPbUKdwDd"
      }
    },
    {
      "cell_type": "markdown",
      "source": [
        "## **Data Preparation**"
      ],
      "metadata": {
        "id": "b79WcoTNt7-d"
      }
    },
    {
      "cell_type": "code",
      "source": [
        "dataset_path = r'https://storage.googleapis.com/dataset_traffic_accidents_dps/Monatszahlen_Verkehrsunf%C3%A4lle.csv'\n",
        "df = pd.read_csv(dataset_path)\n"
      ],
      "metadata": {
        "id": "YOwYcgwgVpV6"
      },
      "execution_count": 120,
      "outputs": []
    },
    {
      "cell_type": "code",
      "source": [
        "df.head()"
      ],
      "metadata": {
        "colab": {
          "base_uri": "https://localhost:8080/",
          "height": 206
        },
        "id": "7ch10eFEV5pm",
        "outputId": "18bf4579-354a-4ab8-f5c6-e490dd5c91ff"
      },
      "execution_count": 114,
      "outputs": [
        {
          "output_type": "execute_result",
          "data": {
            "text/plain": [
              "       MONATSZAHL AUSPRÄGUNG  JAHR   MONAT  WERT  VORJAHRESWERT  \\\n",
              "0  Alkoholunfälle  insgesamt  2022  202201   NaN           16.0   \n",
              "1  Alkoholunfälle  insgesamt  2022  202202   NaN           14.0   \n",
              "2  Alkoholunfälle  insgesamt  2022  202203   NaN           24.0   \n",
              "3  Alkoholunfälle  insgesamt  2022  202204   NaN           16.0   \n",
              "4  Alkoholunfälle  insgesamt  2022  202205   NaN           24.0   \n",
              "\n",
              "   VERÄND_VORMONAT_PROZENT  VERÄND_VORJAHRESMONAT_PROZENT  \\\n",
              "0                      NaN                            NaN   \n",
              "1                      NaN                            NaN   \n",
              "2                      NaN                            NaN   \n",
              "3                      NaN                            NaN   \n",
              "4                      NaN                            NaN   \n",
              "\n",
              "   ZWÖLF_MONATE_MITTELWERT  \n",
              "0                      NaN  \n",
              "1                      NaN  \n",
              "2                      NaN  \n",
              "3                      NaN  \n",
              "4                      NaN  "
            ],
            "text/html": [
              "\n",
              "  <div id=\"df-9e285bd2-025b-4ae6-b59c-28f8654e779e\">\n",
              "    <div class=\"colab-df-container\">\n",
              "      <div>\n",
              "<style scoped>\n",
              "    .dataframe tbody tr th:only-of-type {\n",
              "        vertical-align: middle;\n",
              "    }\n",
              "\n",
              "    .dataframe tbody tr th {\n",
              "        vertical-align: top;\n",
              "    }\n",
              "\n",
              "    .dataframe thead th {\n",
              "        text-align: right;\n",
              "    }\n",
              "</style>\n",
              "<table border=\"1\" class=\"dataframe\">\n",
              "  <thead>\n",
              "    <tr style=\"text-align: right;\">\n",
              "      <th></th>\n",
              "      <th>MONATSZAHL</th>\n",
              "      <th>AUSPRÄGUNG</th>\n",
              "      <th>JAHR</th>\n",
              "      <th>MONAT</th>\n",
              "      <th>WERT</th>\n",
              "      <th>VORJAHRESWERT</th>\n",
              "      <th>VERÄND_VORMONAT_PROZENT</th>\n",
              "      <th>VERÄND_VORJAHRESMONAT_PROZENT</th>\n",
              "      <th>ZWÖLF_MONATE_MITTELWERT</th>\n",
              "    </tr>\n",
              "  </thead>\n",
              "  <tbody>\n",
              "    <tr>\n",
              "      <th>0</th>\n",
              "      <td>Alkoholunfälle</td>\n",
              "      <td>insgesamt</td>\n",
              "      <td>2022</td>\n",
              "      <td>202201</td>\n",
              "      <td>NaN</td>\n",
              "      <td>16.0</td>\n",
              "      <td>NaN</td>\n",
              "      <td>NaN</td>\n",
              "      <td>NaN</td>\n",
              "    </tr>\n",
              "    <tr>\n",
              "      <th>1</th>\n",
              "      <td>Alkoholunfälle</td>\n",
              "      <td>insgesamt</td>\n",
              "      <td>2022</td>\n",
              "      <td>202202</td>\n",
              "      <td>NaN</td>\n",
              "      <td>14.0</td>\n",
              "      <td>NaN</td>\n",
              "      <td>NaN</td>\n",
              "      <td>NaN</td>\n",
              "    </tr>\n",
              "    <tr>\n",
              "      <th>2</th>\n",
              "      <td>Alkoholunfälle</td>\n",
              "      <td>insgesamt</td>\n",
              "      <td>2022</td>\n",
              "      <td>202203</td>\n",
              "      <td>NaN</td>\n",
              "      <td>24.0</td>\n",
              "      <td>NaN</td>\n",
              "      <td>NaN</td>\n",
              "      <td>NaN</td>\n",
              "    </tr>\n",
              "    <tr>\n",
              "      <th>3</th>\n",
              "      <td>Alkoholunfälle</td>\n",
              "      <td>insgesamt</td>\n",
              "      <td>2022</td>\n",
              "      <td>202204</td>\n",
              "      <td>NaN</td>\n",
              "      <td>16.0</td>\n",
              "      <td>NaN</td>\n",
              "      <td>NaN</td>\n",
              "      <td>NaN</td>\n",
              "    </tr>\n",
              "    <tr>\n",
              "      <th>4</th>\n",
              "      <td>Alkoholunfälle</td>\n",
              "      <td>insgesamt</td>\n",
              "      <td>2022</td>\n",
              "      <td>202205</td>\n",
              "      <td>NaN</td>\n",
              "      <td>24.0</td>\n",
              "      <td>NaN</td>\n",
              "      <td>NaN</td>\n",
              "      <td>NaN</td>\n",
              "    </tr>\n",
              "  </tbody>\n",
              "</table>\n",
              "</div>\n",
              "      <button class=\"colab-df-convert\" onclick=\"convertToInteractive('df-9e285bd2-025b-4ae6-b59c-28f8654e779e')\"\n",
              "              title=\"Convert this dataframe to an interactive table.\"\n",
              "              style=\"display:none;\">\n",
              "        \n",
              "  <svg xmlns=\"http://www.w3.org/2000/svg\" height=\"24px\"viewBox=\"0 0 24 24\"\n",
              "       width=\"24px\">\n",
              "    <path d=\"M0 0h24v24H0V0z\" fill=\"none\"/>\n",
              "    <path d=\"M18.56 5.44l.94 2.06.94-2.06 2.06-.94-2.06-.94-.94-2.06-.94 2.06-2.06.94zm-11 1L8.5 8.5l.94-2.06 2.06-.94-2.06-.94L8.5 2.5l-.94 2.06-2.06.94zm10 10l.94 2.06.94-2.06 2.06-.94-2.06-.94-.94-2.06-.94 2.06-2.06.94z\"/><path d=\"M17.41 7.96l-1.37-1.37c-.4-.4-.92-.59-1.43-.59-.52 0-1.04.2-1.43.59L10.3 9.45l-7.72 7.72c-.78.78-.78 2.05 0 2.83L4 21.41c.39.39.9.59 1.41.59.51 0 1.02-.2 1.41-.59l7.78-7.78 2.81-2.81c.8-.78.8-2.07 0-2.86zM5.41 20L4 18.59l7.72-7.72 1.47 1.35L5.41 20z\"/>\n",
              "  </svg>\n",
              "      </button>\n",
              "      \n",
              "  <style>\n",
              "    .colab-df-container {\n",
              "      display:flex;\n",
              "      flex-wrap:wrap;\n",
              "      gap: 12px;\n",
              "    }\n",
              "\n",
              "    .colab-df-convert {\n",
              "      background-color: #E8F0FE;\n",
              "      border: none;\n",
              "      border-radius: 50%;\n",
              "      cursor: pointer;\n",
              "      display: none;\n",
              "      fill: #1967D2;\n",
              "      height: 32px;\n",
              "      padding: 0 0 0 0;\n",
              "      width: 32px;\n",
              "    }\n",
              "\n",
              "    .colab-df-convert:hover {\n",
              "      background-color: #E2EBFA;\n",
              "      box-shadow: 0px 1px 2px rgba(60, 64, 67, 0.3), 0px 1px 3px 1px rgba(60, 64, 67, 0.15);\n",
              "      fill: #174EA6;\n",
              "    }\n",
              "\n",
              "    [theme=dark] .colab-df-convert {\n",
              "      background-color: #3B4455;\n",
              "      fill: #D2E3FC;\n",
              "    }\n",
              "\n",
              "    [theme=dark] .colab-df-convert:hover {\n",
              "      background-color: #434B5C;\n",
              "      box-shadow: 0px 1px 3px 1px rgba(0, 0, 0, 0.15);\n",
              "      filter: drop-shadow(0px 1px 2px rgba(0, 0, 0, 0.3));\n",
              "      fill: #FFFFFF;\n",
              "    }\n",
              "  </style>\n",
              "\n",
              "      <script>\n",
              "        const buttonEl =\n",
              "          document.querySelector('#df-9e285bd2-025b-4ae6-b59c-28f8654e779e button.colab-df-convert');\n",
              "        buttonEl.style.display =\n",
              "          google.colab.kernel.accessAllowed ? 'block' : 'none';\n",
              "\n",
              "        async function convertToInteractive(key) {\n",
              "          const element = document.querySelector('#df-9e285bd2-025b-4ae6-b59c-28f8654e779e');\n",
              "          const dataTable =\n",
              "            await google.colab.kernel.invokeFunction('convertToInteractive',\n",
              "                                                     [key], {});\n",
              "          if (!dataTable) return;\n",
              "\n",
              "          const docLinkHtml = 'Like what you see? Visit the ' +\n",
              "            '<a target=\"_blank\" href=https://colab.research.google.com/notebooks/data_table.ipynb>data table notebook</a>'\n",
              "            + ' to learn more about interactive tables.';\n",
              "          element.innerHTML = '';\n",
              "          dataTable['output_type'] = 'display_data';\n",
              "          await google.colab.output.renderOutput(dataTable, element);\n",
              "          const docLink = document.createElement('div');\n",
              "          docLink.innerHTML = docLinkHtml;\n",
              "          element.appendChild(docLink);\n",
              "        }\n",
              "      </script>\n",
              "    </div>\n",
              "  </div>\n",
              "  "
            ]
          },
          "metadata": {},
          "execution_count": 114
        }
      ]
    },
    {
      "cell_type": "markdown",
      "source": [
        "how many data-points and features?"
      ],
      "metadata": {
        "id": "7usZkVaCuKDP"
      }
    },
    {
      "cell_type": "code",
      "source": [
        "df.shape"
      ],
      "metadata": {
        "colab": {
          "base_uri": "https://localhost:8080/"
        },
        "id": "28bG0rsDuMwX",
        "outputId": "837d5b0e-b2ac-4002-85ee-d0d0fdb04139"
      },
      "execution_count": 122,
      "outputs": [
        {
          "output_type": "execute_result",
          "data": {
            "text/plain": [
              "(2086, 9)"
            ]
          },
          "metadata": {},
          "execution_count": 122
        }
      ]
    },
    {
      "cell_type": "markdown",
      "source": [
        "What are the column names in our dataset?"
      ],
      "metadata": {
        "id": "0yg7j7LauRst"
      }
    },
    {
      "cell_type": "code",
      "source": [
        "df.columns"
      ],
      "metadata": {
        "colab": {
          "base_uri": "https://localhost:8080/"
        },
        "id": "wu8Sv1evuTq8",
        "outputId": "6bc2a6e2-b93a-49a5-94dc-df28e7e08e1f"
      },
      "execution_count": 123,
      "outputs": [
        {
          "output_type": "execute_result",
          "data": {
            "text/plain": [
              "Index(['MONATSZAHL', 'AUSPRÄGUNG', 'JAHR', 'MONAT', 'WERT', 'VORJAHRESWERT',\n",
              "       'VERÄND_VORMONAT_PROZENT', 'VERÄND_VORJAHRESMONAT_PROZENT',\n",
              "       'ZWÖLF_MONATE_MITTELWERT'],\n",
              "      dtype='object')"
            ]
          },
          "metadata": {},
          "execution_count": 123
        }
      ]
    },
    {
      "cell_type": "code",
      "source": [
        "df.head()"
      ],
      "metadata": {
        "colab": {
          "base_uri": "https://localhost:8080/",
          "height": 206
        },
        "id": "iKOJInySWIO-",
        "outputId": "6b30f1e7-1626-4855-e4d1-901d0155c852"
      },
      "execution_count": 124,
      "outputs": [
        {
          "output_type": "execute_result",
          "data": {
            "text/plain": [
              "       MONATSZAHL AUSPRÄGUNG  JAHR   MONAT  WERT  VORJAHRESWERT  \\\n",
              "0  Alkoholunfälle  insgesamt  2022  202201   NaN           16.0   \n",
              "1  Alkoholunfälle  insgesamt  2022  202202   NaN           14.0   \n",
              "2  Alkoholunfälle  insgesamt  2022  202203   NaN           24.0   \n",
              "3  Alkoholunfälle  insgesamt  2022  202204   NaN           16.0   \n",
              "4  Alkoholunfälle  insgesamt  2022  202205   NaN           24.0   \n",
              "\n",
              "   VERÄND_VORMONAT_PROZENT  VERÄND_VORJAHRESMONAT_PROZENT  \\\n",
              "0                      NaN                            NaN   \n",
              "1                      NaN                            NaN   \n",
              "2                      NaN                            NaN   \n",
              "3                      NaN                            NaN   \n",
              "4                      NaN                            NaN   \n",
              "\n",
              "   ZWÖLF_MONATE_MITTELWERT  \n",
              "0                      NaN  \n",
              "1                      NaN  \n",
              "2                      NaN  \n",
              "3                      NaN  \n",
              "4                      NaN  "
            ],
            "text/html": [
              "\n",
              "  <div id=\"df-a8c06f6a-8c6f-4b62-bc94-1d90f0aa1a14\">\n",
              "    <div class=\"colab-df-container\">\n",
              "      <div>\n",
              "<style scoped>\n",
              "    .dataframe tbody tr th:only-of-type {\n",
              "        vertical-align: middle;\n",
              "    }\n",
              "\n",
              "    .dataframe tbody tr th {\n",
              "        vertical-align: top;\n",
              "    }\n",
              "\n",
              "    .dataframe thead th {\n",
              "        text-align: right;\n",
              "    }\n",
              "</style>\n",
              "<table border=\"1\" class=\"dataframe\">\n",
              "  <thead>\n",
              "    <tr style=\"text-align: right;\">\n",
              "      <th></th>\n",
              "      <th>MONATSZAHL</th>\n",
              "      <th>AUSPRÄGUNG</th>\n",
              "      <th>JAHR</th>\n",
              "      <th>MONAT</th>\n",
              "      <th>WERT</th>\n",
              "      <th>VORJAHRESWERT</th>\n",
              "      <th>VERÄND_VORMONAT_PROZENT</th>\n",
              "      <th>VERÄND_VORJAHRESMONAT_PROZENT</th>\n",
              "      <th>ZWÖLF_MONATE_MITTELWERT</th>\n",
              "    </tr>\n",
              "  </thead>\n",
              "  <tbody>\n",
              "    <tr>\n",
              "      <th>0</th>\n",
              "      <td>Alkoholunfälle</td>\n",
              "      <td>insgesamt</td>\n",
              "      <td>2022</td>\n",
              "      <td>202201</td>\n",
              "      <td>NaN</td>\n",
              "      <td>16.0</td>\n",
              "      <td>NaN</td>\n",
              "      <td>NaN</td>\n",
              "      <td>NaN</td>\n",
              "    </tr>\n",
              "    <tr>\n",
              "      <th>1</th>\n",
              "      <td>Alkoholunfälle</td>\n",
              "      <td>insgesamt</td>\n",
              "      <td>2022</td>\n",
              "      <td>202202</td>\n",
              "      <td>NaN</td>\n",
              "      <td>14.0</td>\n",
              "      <td>NaN</td>\n",
              "      <td>NaN</td>\n",
              "      <td>NaN</td>\n",
              "    </tr>\n",
              "    <tr>\n",
              "      <th>2</th>\n",
              "      <td>Alkoholunfälle</td>\n",
              "      <td>insgesamt</td>\n",
              "      <td>2022</td>\n",
              "      <td>202203</td>\n",
              "      <td>NaN</td>\n",
              "      <td>24.0</td>\n",
              "      <td>NaN</td>\n",
              "      <td>NaN</td>\n",
              "      <td>NaN</td>\n",
              "    </tr>\n",
              "    <tr>\n",
              "      <th>3</th>\n",
              "      <td>Alkoholunfälle</td>\n",
              "      <td>insgesamt</td>\n",
              "      <td>2022</td>\n",
              "      <td>202204</td>\n",
              "      <td>NaN</td>\n",
              "      <td>16.0</td>\n",
              "      <td>NaN</td>\n",
              "      <td>NaN</td>\n",
              "      <td>NaN</td>\n",
              "    </tr>\n",
              "    <tr>\n",
              "      <th>4</th>\n",
              "      <td>Alkoholunfälle</td>\n",
              "      <td>insgesamt</td>\n",
              "      <td>2022</td>\n",
              "      <td>202205</td>\n",
              "      <td>NaN</td>\n",
              "      <td>24.0</td>\n",
              "      <td>NaN</td>\n",
              "      <td>NaN</td>\n",
              "      <td>NaN</td>\n",
              "    </tr>\n",
              "  </tbody>\n",
              "</table>\n",
              "</div>\n",
              "      <button class=\"colab-df-convert\" onclick=\"convertToInteractive('df-a8c06f6a-8c6f-4b62-bc94-1d90f0aa1a14')\"\n",
              "              title=\"Convert this dataframe to an interactive table.\"\n",
              "              style=\"display:none;\">\n",
              "        \n",
              "  <svg xmlns=\"http://www.w3.org/2000/svg\" height=\"24px\"viewBox=\"0 0 24 24\"\n",
              "       width=\"24px\">\n",
              "    <path d=\"M0 0h24v24H0V0z\" fill=\"none\"/>\n",
              "    <path d=\"M18.56 5.44l.94 2.06.94-2.06 2.06-.94-2.06-.94-.94-2.06-.94 2.06-2.06.94zm-11 1L8.5 8.5l.94-2.06 2.06-.94-2.06-.94L8.5 2.5l-.94 2.06-2.06.94zm10 10l.94 2.06.94-2.06 2.06-.94-2.06-.94-.94-2.06-.94 2.06-2.06.94z\"/><path d=\"M17.41 7.96l-1.37-1.37c-.4-.4-.92-.59-1.43-.59-.52 0-1.04.2-1.43.59L10.3 9.45l-7.72 7.72c-.78.78-.78 2.05 0 2.83L4 21.41c.39.39.9.59 1.41.59.51 0 1.02-.2 1.41-.59l7.78-7.78 2.81-2.81c.8-.78.8-2.07 0-2.86zM5.41 20L4 18.59l7.72-7.72 1.47 1.35L5.41 20z\"/>\n",
              "  </svg>\n",
              "      </button>\n",
              "      \n",
              "  <style>\n",
              "    .colab-df-container {\n",
              "      display:flex;\n",
              "      flex-wrap:wrap;\n",
              "      gap: 12px;\n",
              "    }\n",
              "\n",
              "    .colab-df-convert {\n",
              "      background-color: #E8F0FE;\n",
              "      border: none;\n",
              "      border-radius: 50%;\n",
              "      cursor: pointer;\n",
              "      display: none;\n",
              "      fill: #1967D2;\n",
              "      height: 32px;\n",
              "      padding: 0 0 0 0;\n",
              "      width: 32px;\n",
              "    }\n",
              "\n",
              "    .colab-df-convert:hover {\n",
              "      background-color: #E2EBFA;\n",
              "      box-shadow: 0px 1px 2px rgba(60, 64, 67, 0.3), 0px 1px 3px 1px rgba(60, 64, 67, 0.15);\n",
              "      fill: #174EA6;\n",
              "    }\n",
              "\n",
              "    [theme=dark] .colab-df-convert {\n",
              "      background-color: #3B4455;\n",
              "      fill: #D2E3FC;\n",
              "    }\n",
              "\n",
              "    [theme=dark] .colab-df-convert:hover {\n",
              "      background-color: #434B5C;\n",
              "      box-shadow: 0px 1px 3px 1px rgba(0, 0, 0, 0.15);\n",
              "      filter: drop-shadow(0px 1px 2px rgba(0, 0, 0, 0.3));\n",
              "      fill: #FFFFFF;\n",
              "    }\n",
              "  </style>\n",
              "\n",
              "      <script>\n",
              "        const buttonEl =\n",
              "          document.querySelector('#df-a8c06f6a-8c6f-4b62-bc94-1d90f0aa1a14 button.colab-df-convert');\n",
              "        buttonEl.style.display =\n",
              "          google.colab.kernel.accessAllowed ? 'block' : 'none';\n",
              "\n",
              "        async function convertToInteractive(key) {\n",
              "          const element = document.querySelector('#df-a8c06f6a-8c6f-4b62-bc94-1d90f0aa1a14');\n",
              "          const dataTable =\n",
              "            await google.colab.kernel.invokeFunction('convertToInteractive',\n",
              "                                                     [key], {});\n",
              "          if (!dataTable) return;\n",
              "\n",
              "          const docLinkHtml = 'Like what you see? Visit the ' +\n",
              "            '<a target=\"_blank\" href=https://colab.research.google.com/notebooks/data_table.ipynb>data table notebook</a>'\n",
              "            + ' to learn more about interactive tables.';\n",
              "          element.innerHTML = '';\n",
              "          dataTable['output_type'] = 'display_data';\n",
              "          await google.colab.output.renderOutput(dataTable, element);\n",
              "          const docLink = document.createElement('div');\n",
              "          docLink.innerHTML = docLinkHtml;\n",
              "          element.appendChild(docLink);\n",
              "        }\n",
              "      </script>\n",
              "    </div>\n",
              "  </div>\n",
              "  "
            ]
          },
          "metadata": {},
          "execution_count": 124
        }
      ]
    },
    {
      "cell_type": "code",
      "source": [
        "# info about the data\n",
        "df.info()"
      ],
      "metadata": {
        "colab": {
          "base_uri": "https://localhost:8080/"
        },
        "id": "ENV0jTpZwL0B",
        "outputId": "5c09a07d-3f45-4724-9464-c967b1f79a14"
      },
      "execution_count": 125,
      "outputs": [
        {
          "output_type": "stream",
          "name": "stdout",
          "text": [
            "<class 'pandas.core.frame.DataFrame'>\n",
            "RangeIndex: 2086 entries, 0 to 2085\n",
            "Data columns (total 9 columns):\n",
            " #   Column                         Non-Null Count  Dtype  \n",
            "---  ------                         --------------  -----  \n",
            " 0   MONATSZAHL                     2086 non-null   object \n",
            " 1   AUSPRÄGUNG                     2086 non-null   object \n",
            " 2   JAHR                           2086 non-null   int64  \n",
            " 3   MONAT                          2086 non-null   object \n",
            " 4   WERT                           2002 non-null   float64\n",
            " 5   VORJAHRESWERT                  1995 non-null   float64\n",
            " 6   VERÄND_VORMONAT_PROZENT        1840 non-null   float64\n",
            " 7   VERÄND_VORJAHRESMONAT_PROZENT  1910 non-null   float64\n",
            " 8   ZWÖLF_MONATE_MITTELWERT        1848 non-null   float64\n",
            "dtypes: float64(5), int64(1), object(3)\n",
            "memory usage: 146.8+ KB\n"
          ]
        }
      ]
    },
    {
      "cell_type": "code",
      "source": [
        "# Process the data - considering first 5 columns\n",
        "#Select only important columns\n",
        "features = ['MONATSZAHL', 'AUSPRÄGUNG', 'JAHR', 'MONAT', 'WERT']\n",
        "#Make the data only the important columns\n",
        "df = df[features]\n",
        "\n"
      ],
      "metadata": {
        "id": "h-0OX--ZV-sX"
      },
      "execution_count": 126,
      "outputs": []
    },
    {
      "cell_type": "code",
      "source": [
        "# Rename the columns we will be working on \n",
        "df = df.rename( columns = { \n",
        "    'MONATSZAHL' : 'Category',\n",
        "    'AUSPRÄGUNG': 'Accident_Type',\n",
        "    'JAHR'       : 'Year',\n",
        "    'MONAT'      : 'Month',\n",
        "    'WERT'       : 'Value'\n",
        "})"
      ],
      "metadata": {
        "id": "jUrUIauIvXDh"
      },
      "execution_count": 127,
      "outputs": []
    },
    {
      "cell_type": "code",
      "source": [
        "df.head()"
      ],
      "metadata": {
        "colab": {
          "base_uri": "https://localhost:8080/",
          "height": 206
        },
        "id": "lQdB5p5R0XdI",
        "outputId": "8cfcf660-732b-4e90-ee0f-9fcc5aed87fd"
      },
      "execution_count": 128,
      "outputs": [
        {
          "output_type": "execute_result",
          "data": {
            "text/plain": [
              "         Category Accident_Type  Year   Month  Value\n",
              "0  Alkoholunfälle     insgesamt  2022  202201    NaN\n",
              "1  Alkoholunfälle     insgesamt  2022  202202    NaN\n",
              "2  Alkoholunfälle     insgesamt  2022  202203    NaN\n",
              "3  Alkoholunfälle     insgesamt  2022  202204    NaN\n",
              "4  Alkoholunfälle     insgesamt  2022  202205    NaN"
            ],
            "text/html": [
              "\n",
              "  <div id=\"df-a28941e1-acee-4718-a603-2d65ea549652\">\n",
              "    <div class=\"colab-df-container\">\n",
              "      <div>\n",
              "<style scoped>\n",
              "    .dataframe tbody tr th:only-of-type {\n",
              "        vertical-align: middle;\n",
              "    }\n",
              "\n",
              "    .dataframe tbody tr th {\n",
              "        vertical-align: top;\n",
              "    }\n",
              "\n",
              "    .dataframe thead th {\n",
              "        text-align: right;\n",
              "    }\n",
              "</style>\n",
              "<table border=\"1\" class=\"dataframe\">\n",
              "  <thead>\n",
              "    <tr style=\"text-align: right;\">\n",
              "      <th></th>\n",
              "      <th>Category</th>\n",
              "      <th>Accident_Type</th>\n",
              "      <th>Year</th>\n",
              "      <th>Month</th>\n",
              "      <th>Value</th>\n",
              "    </tr>\n",
              "  </thead>\n",
              "  <tbody>\n",
              "    <tr>\n",
              "      <th>0</th>\n",
              "      <td>Alkoholunfälle</td>\n",
              "      <td>insgesamt</td>\n",
              "      <td>2022</td>\n",
              "      <td>202201</td>\n",
              "      <td>NaN</td>\n",
              "    </tr>\n",
              "    <tr>\n",
              "      <th>1</th>\n",
              "      <td>Alkoholunfälle</td>\n",
              "      <td>insgesamt</td>\n",
              "      <td>2022</td>\n",
              "      <td>202202</td>\n",
              "      <td>NaN</td>\n",
              "    </tr>\n",
              "    <tr>\n",
              "      <th>2</th>\n",
              "      <td>Alkoholunfälle</td>\n",
              "      <td>insgesamt</td>\n",
              "      <td>2022</td>\n",
              "      <td>202203</td>\n",
              "      <td>NaN</td>\n",
              "    </tr>\n",
              "    <tr>\n",
              "      <th>3</th>\n",
              "      <td>Alkoholunfälle</td>\n",
              "      <td>insgesamt</td>\n",
              "      <td>2022</td>\n",
              "      <td>202204</td>\n",
              "      <td>NaN</td>\n",
              "    </tr>\n",
              "    <tr>\n",
              "      <th>4</th>\n",
              "      <td>Alkoholunfälle</td>\n",
              "      <td>insgesamt</td>\n",
              "      <td>2022</td>\n",
              "      <td>202205</td>\n",
              "      <td>NaN</td>\n",
              "    </tr>\n",
              "  </tbody>\n",
              "</table>\n",
              "</div>\n",
              "      <button class=\"colab-df-convert\" onclick=\"convertToInteractive('df-a28941e1-acee-4718-a603-2d65ea549652')\"\n",
              "              title=\"Convert this dataframe to an interactive table.\"\n",
              "              style=\"display:none;\">\n",
              "        \n",
              "  <svg xmlns=\"http://www.w3.org/2000/svg\" height=\"24px\"viewBox=\"0 0 24 24\"\n",
              "       width=\"24px\">\n",
              "    <path d=\"M0 0h24v24H0V0z\" fill=\"none\"/>\n",
              "    <path d=\"M18.56 5.44l.94 2.06.94-2.06 2.06-.94-2.06-.94-.94-2.06-.94 2.06-2.06.94zm-11 1L8.5 8.5l.94-2.06 2.06-.94-2.06-.94L8.5 2.5l-.94 2.06-2.06.94zm10 10l.94 2.06.94-2.06 2.06-.94-2.06-.94-.94-2.06-.94 2.06-2.06.94z\"/><path d=\"M17.41 7.96l-1.37-1.37c-.4-.4-.92-.59-1.43-.59-.52 0-1.04.2-1.43.59L10.3 9.45l-7.72 7.72c-.78.78-.78 2.05 0 2.83L4 21.41c.39.39.9.59 1.41.59.51 0 1.02-.2 1.41-.59l7.78-7.78 2.81-2.81c.8-.78.8-2.07 0-2.86zM5.41 20L4 18.59l7.72-7.72 1.47 1.35L5.41 20z\"/>\n",
              "  </svg>\n",
              "      </button>\n",
              "      \n",
              "  <style>\n",
              "    .colab-df-container {\n",
              "      display:flex;\n",
              "      flex-wrap:wrap;\n",
              "      gap: 12px;\n",
              "    }\n",
              "\n",
              "    .colab-df-convert {\n",
              "      background-color: #E8F0FE;\n",
              "      border: none;\n",
              "      border-radius: 50%;\n",
              "      cursor: pointer;\n",
              "      display: none;\n",
              "      fill: #1967D2;\n",
              "      height: 32px;\n",
              "      padding: 0 0 0 0;\n",
              "      width: 32px;\n",
              "    }\n",
              "\n",
              "    .colab-df-convert:hover {\n",
              "      background-color: #E2EBFA;\n",
              "      box-shadow: 0px 1px 2px rgba(60, 64, 67, 0.3), 0px 1px 3px 1px rgba(60, 64, 67, 0.15);\n",
              "      fill: #174EA6;\n",
              "    }\n",
              "\n",
              "    [theme=dark] .colab-df-convert {\n",
              "      background-color: #3B4455;\n",
              "      fill: #D2E3FC;\n",
              "    }\n",
              "\n",
              "    [theme=dark] .colab-df-convert:hover {\n",
              "      background-color: #434B5C;\n",
              "      box-shadow: 0px 1px 3px 1px rgba(0, 0, 0, 0.15);\n",
              "      filter: drop-shadow(0px 1px 2px rgba(0, 0, 0, 0.3));\n",
              "      fill: #FFFFFF;\n",
              "    }\n",
              "  </style>\n",
              "\n",
              "      <script>\n",
              "        const buttonEl =\n",
              "          document.querySelector('#df-a28941e1-acee-4718-a603-2d65ea549652 button.colab-df-convert');\n",
              "        buttonEl.style.display =\n",
              "          google.colab.kernel.accessAllowed ? 'block' : 'none';\n",
              "\n",
              "        async function convertToInteractive(key) {\n",
              "          const element = document.querySelector('#df-a28941e1-acee-4718-a603-2d65ea549652');\n",
              "          const dataTable =\n",
              "            await google.colab.kernel.invokeFunction('convertToInteractive',\n",
              "                                                     [key], {});\n",
              "          if (!dataTable) return;\n",
              "\n",
              "          const docLinkHtml = 'Like what you see? Visit the ' +\n",
              "            '<a target=\"_blank\" href=https://colab.research.google.com/notebooks/data_table.ipynb>data table notebook</a>'\n",
              "            + ' to learn more about interactive tables.';\n",
              "          element.innerHTML = '';\n",
              "          dataTable['output_type'] = 'display_data';\n",
              "          await google.colab.output.renderOutput(dataTable, element);\n",
              "          const docLink = document.createElement('div');\n",
              "          docLink.innerHTML = docLinkHtml;\n",
              "          element.appendChild(docLink);\n",
              "        }\n",
              "      </script>\n",
              "    </div>\n",
              "  </div>\n",
              "  "
            ]
          },
          "metadata": {},
          "execution_count": 128
        }
      ]
    },
    {
      "cell_type": "code",
      "source": [
        "df.shape"
      ],
      "metadata": {
        "colab": {
          "base_uri": "https://localhost:8080/"
        },
        "id": "pJqsplHJWNvf",
        "outputId": "b0436293-c073-421e-8bab-dc437f8f1367"
      },
      "execution_count": 129,
      "outputs": [
        {
          "output_type": "execute_result",
          "data": {
            "text/plain": [
              "(2086, 5)"
            ]
          },
          "metadata": {},
          "execution_count": 129
        }
      ]
    },
    {
      "cell_type": "code",
      "source": [
        "data = df.copy() #saved raw copy to use it later"
      ],
      "metadata": {
        "id": "enB3pZpDZZcN"
      },
      "execution_count": 130,
      "outputs": []
    },
    {
      "cell_type": "code",
      "source": [
        "df['Category'].unique()"
      ],
      "metadata": {
        "colab": {
          "base_uri": "https://localhost:8080/"
        },
        "id": "0Cj05LMZxK8W",
        "outputId": "8462e8ce-098d-44e2-a372-4be9922fda8e"
      },
      "execution_count": 98,
      "outputs": [
        {
          "output_type": "execute_result",
          "data": {
            "text/plain": [
              "array(['Alkoholunfälle', 'Fluchtunfälle', 'Verkehrsunfälle'], dtype=object)"
            ]
          },
          "metadata": {},
          "execution_count": 98
        }
      ]
    },
    {
      "cell_type": "code",
      "source": [
        "df['Accident_Type'].unique()"
      ],
      "metadata": {
        "colab": {
          "base_uri": "https://localhost:8080/"
        },
        "id": "eY_eujEjxN7s",
        "outputId": "b1d9cc32-09d7-4d6a-be8b-b71e3d693319"
      },
      "execution_count": 99,
      "outputs": [
        {
          "output_type": "execute_result",
          "data": {
            "text/plain": [
              "array(['insgesamt', 'Verletzte und Getötete', 'mit Personenschäden'],\n",
              "      dtype=object)"
            ]
          },
          "metadata": {},
          "execution_count": 99
        }
      ]
    },
    {
      "cell_type": "code",
      "source": [
        "df['Year'].unique()"
      ],
      "metadata": {
        "colab": {
          "base_uri": "https://localhost:8080/"
        },
        "id": "Gd7GmsrYxN36",
        "outputId": "76b50c04-2133-438c-b767-ade5223cedcf"
      },
      "execution_count": 100,
      "outputs": [
        {
          "output_type": "execute_result",
          "data": {
            "text/plain": [
              "array([2022, 2021, 2020, 2019, 2018, 2017, 2016, 2015, 2014, 2013, 2012,\n",
              "       2011, 2010, 2009, 2008, 2007, 2006, 2005, 2004, 2003, 2002, 2001,\n",
              "       2000])"
            ]
          },
          "metadata": {},
          "execution_count": 100
        }
      ]
    },
    {
      "cell_type": "code",
      "source": [
        "df['Month'].unique()"
      ],
      "metadata": {
        "colab": {
          "base_uri": "https://localhost:8080/"
        },
        "id": "JgCHW_5txN0l",
        "outputId": "bcc6dd1d-df62-4f3d-8324-353c2eff497d"
      },
      "execution_count": 101,
      "outputs": [
        {
          "output_type": "execute_result",
          "data": {
            "text/plain": [
              "array(['202201', '202202', '202203', '202204', '202205', '202206',\n",
              "       '202207', '202208', '202209', '202210', '202211', '202212',\n",
              "       'Summe', '202101', '202102', '202103', '202104', '202105',\n",
              "       '202106', '202107', '202108', '202109', '202110', '202111',\n",
              "       '202112', '202001', '202002', '202003', '202004', '202005',\n",
              "       '202006', '202007', '202008', '202009', '202010', '202011',\n",
              "       '202012', '201901', '201902', '201903', '201904', '201905',\n",
              "       '201906', '201907', '201908', '201909', '201910', '201911',\n",
              "       '201912', '201801', '201802', '201803', '201804', '201805',\n",
              "       '201806', '201807', '201808', '201809', '201810', '201811',\n",
              "       '201812', '201701', '201702', '201703', '201704', '201705',\n",
              "       '201706', '201707', '201708', '201709', '201710', '201711',\n",
              "       '201712', '201601', '201602', '201603', '201604', '201605',\n",
              "       '201606', '201607', '201608', '201609', '201610', '201611',\n",
              "       '201612', '201501', '201502', '201503', '201504', '201505',\n",
              "       '201506', '201507', '201508', '201509', '201510', '201511',\n",
              "       '201512', '201401', '201402', '201403', '201404', '201405',\n",
              "       '201406', '201407', '201408', '201409', '201410', '201411',\n",
              "       '201412', '201301', '201302', '201303', '201304', '201305',\n",
              "       '201306', '201307', '201308', '201309', '201310', '201311',\n",
              "       '201312', '201201', '201202', '201203', '201204', '201205',\n",
              "       '201206', '201207', '201208', '201209', '201210', '201211',\n",
              "       '201212', '201101', '201102', '201103', '201104', '201105',\n",
              "       '201106', '201107', '201108', '201109', '201110', '201111',\n",
              "       '201112', '201001', '201002', '201003', '201004', '201005',\n",
              "       '201006', '201007', '201008', '201009', '201010', '201011',\n",
              "       '201012', '200901', '200902', '200903', '200904', '200905',\n",
              "       '200906', '200907', '200908', '200909', '200910', '200911',\n",
              "       '200912', '200801', '200802', '200803', '200804', '200805',\n",
              "       '200806', '200807', '200808', '200809', '200810', '200811',\n",
              "       '200812', '200701', '200702', '200703', '200704', '200705',\n",
              "       '200706', '200707', '200708', '200709', '200710', '200711',\n",
              "       '200712', '200601', '200602', '200603', '200604', '200605',\n",
              "       '200606', '200607', '200608', '200609', '200610', '200611',\n",
              "       '200612', '200501', '200502', '200503', '200504', '200505',\n",
              "       '200506', '200507', '200508', '200509', '200510', '200511',\n",
              "       '200512', '200401', '200402', '200403', '200404', '200405',\n",
              "       '200406', '200407', '200408', '200409', '200410', '200411',\n",
              "       '200412', '200301', '200302', '200303', '200304', '200305',\n",
              "       '200306', '200307', '200308', '200309', '200310', '200311',\n",
              "       '200312', '200201', '200202', '200203', '200204', '200205',\n",
              "       '200206', '200207', '200208', '200209', '200210', '200211',\n",
              "       '200212', '200101', '200102', '200103', '200104', '200105',\n",
              "       '200106', '200107', '200108', '200109', '200110', '200111',\n",
              "       '200112', '200001', '200002', '200003', '200004', '200005',\n",
              "       '200006', '200007', '200008', '200009', '200010', '200011',\n",
              "       '200012'], dtype=object)"
            ]
          },
          "metadata": {},
          "execution_count": 101
        }
      ]
    },
    {
      "cell_type": "code",
      "source": [
        "# check for empty values in each column\n",
        "df.isnull().any()"
      ],
      "metadata": {
        "colab": {
          "base_uri": "https://localhost:8080/"
        },
        "id": "dK7dU5rDxNxU",
        "outputId": "9372854b-145d-4a24-9908-8dbf61500577"
      },
      "execution_count": 102,
      "outputs": [
        {
          "output_type": "execute_result",
          "data": {
            "text/plain": [
              "Category         False\n",
              "Accident_Type    False\n",
              "Year             False\n",
              "Month            False\n",
              "Value             True\n",
              "dtype: bool"
            ]
          },
          "metadata": {},
          "execution_count": 102
        }
      ]
    },
    {
      "cell_type": "code",
      "source": [
        "# check for non-numeric values\n",
        "numeric_cols = ['Year', 'Month', 'Value']\n",
        "for col in numeric_cols:\n",
        "    # replace Non-numeric value and empty values with NaN\n",
        "    # data[col] = pd.to_numeric(data[col], downcast=\"integer\", errors='coerce').astype('Int64') # to avoid creating copy of it/ new dataframe\n",
        "    df.loc[:, col] = pd.to_numeric(df[col],downcast=\"integer\", errors='coerce').astype('Int64')   #modifying the original DataFrame and not a copy of it.\n",
        "\n",
        "# drop rows with missing values in the numeric columns\n",
        "df = df.dropna(subset=numeric_cols).reset_index(drop=True)\n",
        "\n",
        "# check for missing values after dropping\n",
        "print(df[numeric_cols].isnull().any())"
      ],
      "metadata": {
        "colab": {
          "base_uri": "https://localhost:8080/"
        },
        "id": "_KLDoTucxNtN",
        "outputId": "e898f62e-2833-4fe0-942b-61cd2a0a0195"
      },
      "execution_count": 103,
      "outputs": [
        {
          "output_type": "stream",
          "name": "stdout",
          "text": [
            "Year     False\n",
            "Month    False\n",
            "Value    False\n",
            "dtype: bool\n"
          ]
        }
      ]
    },
    {
      "cell_type": "code",
      "source": [
        "df['Month'] = pd.to_datetime(df['Month'], format='%Y%m').dt.month\n",
        "# df['Month'] = pd.to_numeric(df['Month'].astype(str).str[-2:], errors='coerce')\n",
        "df.head()"
      ],
      "metadata": {
        "colab": {
          "base_uri": "https://localhost:8080/",
          "height": 206
        },
        "id": "MFWkTk9OxNp8",
        "outputId": "46ae1c8b-b0f4-4115-8f10-3fea8b523600"
      },
      "execution_count": 104,
      "outputs": [
        {
          "output_type": "execute_result",
          "data": {
            "text/plain": [
              "         Category Accident_Type  Year  Month  Value\n",
              "0  Alkoholunfälle     insgesamt  2021      1     16\n",
              "1  Alkoholunfälle     insgesamt  2021      2     14\n",
              "2  Alkoholunfälle     insgesamt  2021      3     24\n",
              "3  Alkoholunfälle     insgesamt  2021      4     16\n",
              "4  Alkoholunfälle     insgesamt  2021      5     24"
            ],
            "text/html": [
              "\n",
              "  <div id=\"df-bf76c8cd-8148-421e-b97f-8b16a36adc3e\">\n",
              "    <div class=\"colab-df-container\">\n",
              "      <div>\n",
              "<style scoped>\n",
              "    .dataframe tbody tr th:only-of-type {\n",
              "        vertical-align: middle;\n",
              "    }\n",
              "\n",
              "    .dataframe tbody tr th {\n",
              "        vertical-align: top;\n",
              "    }\n",
              "\n",
              "    .dataframe thead th {\n",
              "        text-align: right;\n",
              "    }\n",
              "</style>\n",
              "<table border=\"1\" class=\"dataframe\">\n",
              "  <thead>\n",
              "    <tr style=\"text-align: right;\">\n",
              "      <th></th>\n",
              "      <th>Category</th>\n",
              "      <th>Accident_Type</th>\n",
              "      <th>Year</th>\n",
              "      <th>Month</th>\n",
              "      <th>Value</th>\n",
              "    </tr>\n",
              "  </thead>\n",
              "  <tbody>\n",
              "    <tr>\n",
              "      <th>0</th>\n",
              "      <td>Alkoholunfälle</td>\n",
              "      <td>insgesamt</td>\n",
              "      <td>2021</td>\n",
              "      <td>1</td>\n",
              "      <td>16</td>\n",
              "    </tr>\n",
              "    <tr>\n",
              "      <th>1</th>\n",
              "      <td>Alkoholunfälle</td>\n",
              "      <td>insgesamt</td>\n",
              "      <td>2021</td>\n",
              "      <td>2</td>\n",
              "      <td>14</td>\n",
              "    </tr>\n",
              "    <tr>\n",
              "      <th>2</th>\n",
              "      <td>Alkoholunfälle</td>\n",
              "      <td>insgesamt</td>\n",
              "      <td>2021</td>\n",
              "      <td>3</td>\n",
              "      <td>24</td>\n",
              "    </tr>\n",
              "    <tr>\n",
              "      <th>3</th>\n",
              "      <td>Alkoholunfälle</td>\n",
              "      <td>insgesamt</td>\n",
              "      <td>2021</td>\n",
              "      <td>4</td>\n",
              "      <td>16</td>\n",
              "    </tr>\n",
              "    <tr>\n",
              "      <th>4</th>\n",
              "      <td>Alkoholunfälle</td>\n",
              "      <td>insgesamt</td>\n",
              "      <td>2021</td>\n",
              "      <td>5</td>\n",
              "      <td>24</td>\n",
              "    </tr>\n",
              "  </tbody>\n",
              "</table>\n",
              "</div>\n",
              "      <button class=\"colab-df-convert\" onclick=\"convertToInteractive('df-bf76c8cd-8148-421e-b97f-8b16a36adc3e')\"\n",
              "              title=\"Convert this dataframe to an interactive table.\"\n",
              "              style=\"display:none;\">\n",
              "        \n",
              "  <svg xmlns=\"http://www.w3.org/2000/svg\" height=\"24px\"viewBox=\"0 0 24 24\"\n",
              "       width=\"24px\">\n",
              "    <path d=\"M0 0h24v24H0V0z\" fill=\"none\"/>\n",
              "    <path d=\"M18.56 5.44l.94 2.06.94-2.06 2.06-.94-2.06-.94-.94-2.06-.94 2.06-2.06.94zm-11 1L8.5 8.5l.94-2.06 2.06-.94-2.06-.94L8.5 2.5l-.94 2.06-2.06.94zm10 10l.94 2.06.94-2.06 2.06-.94-2.06-.94-.94-2.06-.94 2.06-2.06.94z\"/><path d=\"M17.41 7.96l-1.37-1.37c-.4-.4-.92-.59-1.43-.59-.52 0-1.04.2-1.43.59L10.3 9.45l-7.72 7.72c-.78.78-.78 2.05 0 2.83L4 21.41c.39.39.9.59 1.41.59.51 0 1.02-.2 1.41-.59l7.78-7.78 2.81-2.81c.8-.78.8-2.07 0-2.86zM5.41 20L4 18.59l7.72-7.72 1.47 1.35L5.41 20z\"/>\n",
              "  </svg>\n",
              "      </button>\n",
              "      \n",
              "  <style>\n",
              "    .colab-df-container {\n",
              "      display:flex;\n",
              "      flex-wrap:wrap;\n",
              "      gap: 12px;\n",
              "    }\n",
              "\n",
              "    .colab-df-convert {\n",
              "      background-color: #E8F0FE;\n",
              "      border: none;\n",
              "      border-radius: 50%;\n",
              "      cursor: pointer;\n",
              "      display: none;\n",
              "      fill: #1967D2;\n",
              "      height: 32px;\n",
              "      padding: 0 0 0 0;\n",
              "      width: 32px;\n",
              "    }\n",
              "\n",
              "    .colab-df-convert:hover {\n",
              "      background-color: #E2EBFA;\n",
              "      box-shadow: 0px 1px 2px rgba(60, 64, 67, 0.3), 0px 1px 3px 1px rgba(60, 64, 67, 0.15);\n",
              "      fill: #174EA6;\n",
              "    }\n",
              "\n",
              "    [theme=dark] .colab-df-convert {\n",
              "      background-color: #3B4455;\n",
              "      fill: #D2E3FC;\n",
              "    }\n",
              "\n",
              "    [theme=dark] .colab-df-convert:hover {\n",
              "      background-color: #434B5C;\n",
              "      box-shadow: 0px 1px 3px 1px rgba(0, 0, 0, 0.15);\n",
              "      filter: drop-shadow(0px 1px 2px rgba(0, 0, 0, 0.3));\n",
              "      fill: #FFFFFF;\n",
              "    }\n",
              "  </style>\n",
              "\n",
              "      <script>\n",
              "        const buttonEl =\n",
              "          document.querySelector('#df-bf76c8cd-8148-421e-b97f-8b16a36adc3e button.colab-df-convert');\n",
              "        buttonEl.style.display =\n",
              "          google.colab.kernel.accessAllowed ? 'block' : 'none';\n",
              "\n",
              "        async function convertToInteractive(key) {\n",
              "          const element = document.querySelector('#df-bf76c8cd-8148-421e-b97f-8b16a36adc3e');\n",
              "          const dataTable =\n",
              "            await google.colab.kernel.invokeFunction('convertToInteractive',\n",
              "                                                     [key], {});\n",
              "          if (!dataTable) return;\n",
              "\n",
              "          const docLinkHtml = 'Like what you see? Visit the ' +\n",
              "            '<a target=\"_blank\" href=https://colab.research.google.com/notebooks/data_table.ipynb>data table notebook</a>'\n",
              "            + ' to learn more about interactive tables.';\n",
              "          element.innerHTML = '';\n",
              "          dataTable['output_type'] = 'display_data';\n",
              "          await google.colab.output.renderOutput(dataTable, element);\n",
              "          const docLink = document.createElement('div');\n",
              "          docLink.innerHTML = docLinkHtml;\n",
              "          element.appendChild(docLink);\n",
              "        }\n",
              "      </script>\n",
              "    </div>\n",
              "  </div>\n",
              "  "
            ]
          },
          "metadata": {},
          "execution_count": 104
        }
      ]
    },
    {
      "cell_type": "code",
      "source": [
        "df_with_2022 = df.copy()\n",
        "df= df[df[\"Year\"]<=2020].reset_index(drop=True)\n",
        "# data_2020=data_2020.reset_index(drop=True)"
      ],
      "metadata": {
        "id": "zn2gB30TWLFG"
      },
      "execution_count": 105,
      "outputs": []
    },
    {
      "cell_type": "code",
      "source": [
        "df.drop(df[df[\"Month\"]==\"Summe\"].index,inplace=True)\n",
        "df.head()"
      ],
      "metadata": {
        "colab": {
          "base_uri": "https://localhost:8080/",
          "height": 206
        },
        "id": "Oi2PtcbZy845",
        "outputId": "214b8908-acc3-47a3-87a2-e6ba63cb9457"
      },
      "execution_count": 106,
      "outputs": [
        {
          "output_type": "execute_result",
          "data": {
            "text/plain": [
              "         Category Accident_Type  Year  Month  Value\n",
              "0  Alkoholunfälle     insgesamt  2020      1     28\n",
              "1  Alkoholunfälle     insgesamt  2020      2     40\n",
              "2  Alkoholunfälle     insgesamt  2020      3     27\n",
              "3  Alkoholunfälle     insgesamt  2020      4     26\n",
              "4  Alkoholunfälle     insgesamt  2020      5     40"
            ],
            "text/html": [
              "\n",
              "  <div id=\"df-f21e0e8a-9f42-42f3-b9f3-cbb0f7d2a1f1\">\n",
              "    <div class=\"colab-df-container\">\n",
              "      <div>\n",
              "<style scoped>\n",
              "    .dataframe tbody tr th:only-of-type {\n",
              "        vertical-align: middle;\n",
              "    }\n",
              "\n",
              "    .dataframe tbody tr th {\n",
              "        vertical-align: top;\n",
              "    }\n",
              "\n",
              "    .dataframe thead th {\n",
              "        text-align: right;\n",
              "    }\n",
              "</style>\n",
              "<table border=\"1\" class=\"dataframe\">\n",
              "  <thead>\n",
              "    <tr style=\"text-align: right;\">\n",
              "      <th></th>\n",
              "      <th>Category</th>\n",
              "      <th>Accident_Type</th>\n",
              "      <th>Year</th>\n",
              "      <th>Month</th>\n",
              "      <th>Value</th>\n",
              "    </tr>\n",
              "  </thead>\n",
              "  <tbody>\n",
              "    <tr>\n",
              "      <th>0</th>\n",
              "      <td>Alkoholunfälle</td>\n",
              "      <td>insgesamt</td>\n",
              "      <td>2020</td>\n",
              "      <td>1</td>\n",
              "      <td>28</td>\n",
              "    </tr>\n",
              "    <tr>\n",
              "      <th>1</th>\n",
              "      <td>Alkoholunfälle</td>\n",
              "      <td>insgesamt</td>\n",
              "      <td>2020</td>\n",
              "      <td>2</td>\n",
              "      <td>40</td>\n",
              "    </tr>\n",
              "    <tr>\n",
              "      <th>2</th>\n",
              "      <td>Alkoholunfälle</td>\n",
              "      <td>insgesamt</td>\n",
              "      <td>2020</td>\n",
              "      <td>3</td>\n",
              "      <td>27</td>\n",
              "    </tr>\n",
              "    <tr>\n",
              "      <th>3</th>\n",
              "      <td>Alkoholunfälle</td>\n",
              "      <td>insgesamt</td>\n",
              "      <td>2020</td>\n",
              "      <td>4</td>\n",
              "      <td>26</td>\n",
              "    </tr>\n",
              "    <tr>\n",
              "      <th>4</th>\n",
              "      <td>Alkoholunfälle</td>\n",
              "      <td>insgesamt</td>\n",
              "      <td>2020</td>\n",
              "      <td>5</td>\n",
              "      <td>40</td>\n",
              "    </tr>\n",
              "  </tbody>\n",
              "</table>\n",
              "</div>\n",
              "      <button class=\"colab-df-convert\" onclick=\"convertToInteractive('df-f21e0e8a-9f42-42f3-b9f3-cbb0f7d2a1f1')\"\n",
              "              title=\"Convert this dataframe to an interactive table.\"\n",
              "              style=\"display:none;\">\n",
              "        \n",
              "  <svg xmlns=\"http://www.w3.org/2000/svg\" height=\"24px\"viewBox=\"0 0 24 24\"\n",
              "       width=\"24px\">\n",
              "    <path d=\"M0 0h24v24H0V0z\" fill=\"none\"/>\n",
              "    <path d=\"M18.56 5.44l.94 2.06.94-2.06 2.06-.94-2.06-.94-.94-2.06-.94 2.06-2.06.94zm-11 1L8.5 8.5l.94-2.06 2.06-.94-2.06-.94L8.5 2.5l-.94 2.06-2.06.94zm10 10l.94 2.06.94-2.06 2.06-.94-2.06-.94-.94-2.06-.94 2.06-2.06.94z\"/><path d=\"M17.41 7.96l-1.37-1.37c-.4-.4-.92-.59-1.43-.59-.52 0-1.04.2-1.43.59L10.3 9.45l-7.72 7.72c-.78.78-.78 2.05 0 2.83L4 21.41c.39.39.9.59 1.41.59.51 0 1.02-.2 1.41-.59l7.78-7.78 2.81-2.81c.8-.78.8-2.07 0-2.86zM5.41 20L4 18.59l7.72-7.72 1.47 1.35L5.41 20z\"/>\n",
              "  </svg>\n",
              "      </button>\n",
              "      \n",
              "  <style>\n",
              "    .colab-df-container {\n",
              "      display:flex;\n",
              "      flex-wrap:wrap;\n",
              "      gap: 12px;\n",
              "    }\n",
              "\n",
              "    .colab-df-convert {\n",
              "      background-color: #E8F0FE;\n",
              "      border: none;\n",
              "      border-radius: 50%;\n",
              "      cursor: pointer;\n",
              "      display: none;\n",
              "      fill: #1967D2;\n",
              "      height: 32px;\n",
              "      padding: 0 0 0 0;\n",
              "      width: 32px;\n",
              "    }\n",
              "\n",
              "    .colab-df-convert:hover {\n",
              "      background-color: #E2EBFA;\n",
              "      box-shadow: 0px 1px 2px rgba(60, 64, 67, 0.3), 0px 1px 3px 1px rgba(60, 64, 67, 0.15);\n",
              "      fill: #174EA6;\n",
              "    }\n",
              "\n",
              "    [theme=dark] .colab-df-convert {\n",
              "      background-color: #3B4455;\n",
              "      fill: #D2E3FC;\n",
              "    }\n",
              "\n",
              "    [theme=dark] .colab-df-convert:hover {\n",
              "      background-color: #434B5C;\n",
              "      box-shadow: 0px 1px 3px 1px rgba(0, 0, 0, 0.15);\n",
              "      filter: drop-shadow(0px 1px 2px rgba(0, 0, 0, 0.3));\n",
              "      fill: #FFFFFF;\n",
              "    }\n",
              "  </style>\n",
              "\n",
              "      <script>\n",
              "        const buttonEl =\n",
              "          document.querySelector('#df-f21e0e8a-9f42-42f3-b9f3-cbb0f7d2a1f1 button.colab-df-convert');\n",
              "        buttonEl.style.display =\n",
              "          google.colab.kernel.accessAllowed ? 'block' : 'none';\n",
              "\n",
              "        async function convertToInteractive(key) {\n",
              "          const element = document.querySelector('#df-f21e0e8a-9f42-42f3-b9f3-cbb0f7d2a1f1');\n",
              "          const dataTable =\n",
              "            await google.colab.kernel.invokeFunction('convertToInteractive',\n",
              "                                                     [key], {});\n",
              "          if (!dataTable) return;\n",
              "\n",
              "          const docLinkHtml = 'Like what you see? Visit the ' +\n",
              "            '<a target=\"_blank\" href=https://colab.research.google.com/notebooks/data_table.ipynb>data table notebook</a>'\n",
              "            + ' to learn more about interactive tables.';\n",
              "          element.innerHTML = '';\n",
              "          dataTable['output_type'] = 'display_data';\n",
              "          await google.colab.output.renderOutput(dataTable, element);\n",
              "          const docLink = document.createElement('div');\n",
              "          docLink.innerHTML = docLinkHtml;\n",
              "          element.appendChild(docLink);\n",
              "        }\n",
              "      </script>\n",
              "    </div>\n",
              "  </div>\n",
              "  "
            ]
          },
          "metadata": {},
          "execution_count": 106
        }
      ]
    },
    {
      "cell_type": "code",
      "source": [
        "df.shape"
      ],
      "metadata": {
        "colab": {
          "base_uri": "https://localhost:8080/"
        },
        "id": "hnL3w8g7Wgan",
        "outputId": "02f34016-35df-4cbc-be9d-da9c7a05d1c7"
      },
      "execution_count": 24,
      "outputs": [
        {
          "output_type": "execute_result",
          "data": {
            "text/plain": [
              "(1764, 5)"
            ]
          },
          "metadata": {},
          "execution_count": 24
        }
      ]
    },
    {
      "cell_type": "code",
      "source": [
        "df.isnull().sum()"
      ],
      "metadata": {
        "colab": {
          "base_uri": "https://localhost:8080/"
        },
        "id": "_P53HG-hWtCq",
        "outputId": "0d7a480b-ecd9-4bef-dae7-75280b6cadf5"
      },
      "execution_count": 25,
      "outputs": [
        {
          "output_type": "execute_result",
          "data": {
            "text/plain": [
              "Category         0\n",
              "Accident_Type    0\n",
              "Year             0\n",
              "Month            0\n",
              "Value            0\n",
              "dtype: int64"
            ]
          },
          "metadata": {},
          "execution_count": 25
        }
      ]
    },
    {
      "cell_type": "code",
      "source": [
        "df.Year.value_counts()"
      ],
      "metadata": {
        "colab": {
          "base_uri": "https://localhost:8080/"
        },
        "id": "pA53jlXNXPDm",
        "outputId": "d1c0a686-34c2-4b82-bfa8-98e08dc21cd9"
      },
      "execution_count": 26,
      "outputs": [
        {
          "output_type": "execute_result",
          "data": {
            "text/plain": [
              "2020    84\n",
              "2019    84\n",
              "2018    84\n",
              "2017    84\n",
              "2016    84\n",
              "2015    84\n",
              "2014    84\n",
              "2013    84\n",
              "2012    84\n",
              "2011    84\n",
              "2010    84\n",
              "2009    84\n",
              "2008    84\n",
              "2007    84\n",
              "2006    84\n",
              "2005    84\n",
              "2004    84\n",
              "2003    84\n",
              "2002    84\n",
              "2001    84\n",
              "2000    84\n",
              "Name: Year, dtype: Int64"
            ]
          },
          "metadata": {},
          "execution_count": 26
        }
      ]
    },
    {
      "cell_type": "code",
      "source": [
        "df.Category.value_counts()"
      ],
      "metadata": {
        "colab": {
          "base_uri": "https://localhost:8080/"
        },
        "id": "re1VQEcJz7jU",
        "outputId": "fa936a3c-6898-4b46-e754-d83e38efd2f9"
      },
      "execution_count": 27,
      "outputs": [
        {
          "output_type": "execute_result",
          "data": {
            "text/plain": [
              "Verkehrsunfälle    756\n",
              "Alkoholunfälle     504\n",
              "Fluchtunfälle      504\n",
              "Name: Category, dtype: int64"
            ]
          },
          "metadata": {},
          "execution_count": 27
        }
      ]
    },
    {
      "cell_type": "markdown",
      "source": [
        "## **Data Analysis and Visualization**"
      ],
      "metadata": {
        "id": "lkyxFPSZ1KYL"
      }
    },
    {
      "cell_type": "markdown",
      "source": [
        "Number of accident per year by Category"
      ],
      "metadata": {
        "id": "7Aq2BiDl1O7x"
      }
    },
    {
      "cell_type": "code",
      "source": [
        "(df.groupby([df.Year,df.Category]).Category.count()).unstack()"
      ],
      "metadata": {
        "colab": {
          "base_uri": "https://localhost:8080/",
          "height": 739
        },
        "id": "1MFnX2BL1RF7",
        "outputId": "bcebd219-9ffc-4046-b6f6-998dff56eedd"
      },
      "execution_count": 28,
      "outputs": [
        {
          "output_type": "execute_result",
          "data": {
            "text/plain": [
              "Category  Alkoholunfälle  Fluchtunfälle  Verkehrsunfälle\n",
              "Year                                                    \n",
              "2000                  24             24               36\n",
              "2001                  24             24               36\n",
              "2002                  24             24               36\n",
              "2003                  24             24               36\n",
              "2004                  24             24               36\n",
              "2005                  24             24               36\n",
              "2006                  24             24               36\n",
              "2007                  24             24               36\n",
              "2008                  24             24               36\n",
              "2009                  24             24               36\n",
              "2010                  24             24               36\n",
              "2011                  24             24               36\n",
              "2012                  24             24               36\n",
              "2013                  24             24               36\n",
              "2014                  24             24               36\n",
              "2015                  24             24               36\n",
              "2016                  24             24               36\n",
              "2017                  24             24               36\n",
              "2018                  24             24               36\n",
              "2019                  24             24               36\n",
              "2020                  24             24               36"
            ],
            "text/html": [
              "\n",
              "  <div id=\"df-b185e63a-1886-419d-a100-678ecb3bfdb4\">\n",
              "    <div class=\"colab-df-container\">\n",
              "      <div>\n",
              "<style scoped>\n",
              "    .dataframe tbody tr th:only-of-type {\n",
              "        vertical-align: middle;\n",
              "    }\n",
              "\n",
              "    .dataframe tbody tr th {\n",
              "        vertical-align: top;\n",
              "    }\n",
              "\n",
              "    .dataframe thead th {\n",
              "        text-align: right;\n",
              "    }\n",
              "</style>\n",
              "<table border=\"1\" class=\"dataframe\">\n",
              "  <thead>\n",
              "    <tr style=\"text-align: right;\">\n",
              "      <th>Category</th>\n",
              "      <th>Alkoholunfälle</th>\n",
              "      <th>Fluchtunfälle</th>\n",
              "      <th>Verkehrsunfälle</th>\n",
              "    </tr>\n",
              "    <tr>\n",
              "      <th>Year</th>\n",
              "      <th></th>\n",
              "      <th></th>\n",
              "      <th></th>\n",
              "    </tr>\n",
              "  </thead>\n",
              "  <tbody>\n",
              "    <tr>\n",
              "      <th>2000</th>\n",
              "      <td>24</td>\n",
              "      <td>24</td>\n",
              "      <td>36</td>\n",
              "    </tr>\n",
              "    <tr>\n",
              "      <th>2001</th>\n",
              "      <td>24</td>\n",
              "      <td>24</td>\n",
              "      <td>36</td>\n",
              "    </tr>\n",
              "    <tr>\n",
              "      <th>2002</th>\n",
              "      <td>24</td>\n",
              "      <td>24</td>\n",
              "      <td>36</td>\n",
              "    </tr>\n",
              "    <tr>\n",
              "      <th>2003</th>\n",
              "      <td>24</td>\n",
              "      <td>24</td>\n",
              "      <td>36</td>\n",
              "    </tr>\n",
              "    <tr>\n",
              "      <th>2004</th>\n",
              "      <td>24</td>\n",
              "      <td>24</td>\n",
              "      <td>36</td>\n",
              "    </tr>\n",
              "    <tr>\n",
              "      <th>2005</th>\n",
              "      <td>24</td>\n",
              "      <td>24</td>\n",
              "      <td>36</td>\n",
              "    </tr>\n",
              "    <tr>\n",
              "      <th>2006</th>\n",
              "      <td>24</td>\n",
              "      <td>24</td>\n",
              "      <td>36</td>\n",
              "    </tr>\n",
              "    <tr>\n",
              "      <th>2007</th>\n",
              "      <td>24</td>\n",
              "      <td>24</td>\n",
              "      <td>36</td>\n",
              "    </tr>\n",
              "    <tr>\n",
              "      <th>2008</th>\n",
              "      <td>24</td>\n",
              "      <td>24</td>\n",
              "      <td>36</td>\n",
              "    </tr>\n",
              "    <tr>\n",
              "      <th>2009</th>\n",
              "      <td>24</td>\n",
              "      <td>24</td>\n",
              "      <td>36</td>\n",
              "    </tr>\n",
              "    <tr>\n",
              "      <th>2010</th>\n",
              "      <td>24</td>\n",
              "      <td>24</td>\n",
              "      <td>36</td>\n",
              "    </tr>\n",
              "    <tr>\n",
              "      <th>2011</th>\n",
              "      <td>24</td>\n",
              "      <td>24</td>\n",
              "      <td>36</td>\n",
              "    </tr>\n",
              "    <tr>\n",
              "      <th>2012</th>\n",
              "      <td>24</td>\n",
              "      <td>24</td>\n",
              "      <td>36</td>\n",
              "    </tr>\n",
              "    <tr>\n",
              "      <th>2013</th>\n",
              "      <td>24</td>\n",
              "      <td>24</td>\n",
              "      <td>36</td>\n",
              "    </tr>\n",
              "    <tr>\n",
              "      <th>2014</th>\n",
              "      <td>24</td>\n",
              "      <td>24</td>\n",
              "      <td>36</td>\n",
              "    </tr>\n",
              "    <tr>\n",
              "      <th>2015</th>\n",
              "      <td>24</td>\n",
              "      <td>24</td>\n",
              "      <td>36</td>\n",
              "    </tr>\n",
              "    <tr>\n",
              "      <th>2016</th>\n",
              "      <td>24</td>\n",
              "      <td>24</td>\n",
              "      <td>36</td>\n",
              "    </tr>\n",
              "    <tr>\n",
              "      <th>2017</th>\n",
              "      <td>24</td>\n",
              "      <td>24</td>\n",
              "      <td>36</td>\n",
              "    </tr>\n",
              "    <tr>\n",
              "      <th>2018</th>\n",
              "      <td>24</td>\n",
              "      <td>24</td>\n",
              "      <td>36</td>\n",
              "    </tr>\n",
              "    <tr>\n",
              "      <th>2019</th>\n",
              "      <td>24</td>\n",
              "      <td>24</td>\n",
              "      <td>36</td>\n",
              "    </tr>\n",
              "    <tr>\n",
              "      <th>2020</th>\n",
              "      <td>24</td>\n",
              "      <td>24</td>\n",
              "      <td>36</td>\n",
              "    </tr>\n",
              "  </tbody>\n",
              "</table>\n",
              "</div>\n",
              "      <button class=\"colab-df-convert\" onclick=\"convertToInteractive('df-b185e63a-1886-419d-a100-678ecb3bfdb4')\"\n",
              "              title=\"Convert this dataframe to an interactive table.\"\n",
              "              style=\"display:none;\">\n",
              "        \n",
              "  <svg xmlns=\"http://www.w3.org/2000/svg\" height=\"24px\"viewBox=\"0 0 24 24\"\n",
              "       width=\"24px\">\n",
              "    <path d=\"M0 0h24v24H0V0z\" fill=\"none\"/>\n",
              "    <path d=\"M18.56 5.44l.94 2.06.94-2.06 2.06-.94-2.06-.94-.94-2.06-.94 2.06-2.06.94zm-11 1L8.5 8.5l.94-2.06 2.06-.94-2.06-.94L8.5 2.5l-.94 2.06-2.06.94zm10 10l.94 2.06.94-2.06 2.06-.94-2.06-.94-.94-2.06-.94 2.06-2.06.94z\"/><path d=\"M17.41 7.96l-1.37-1.37c-.4-.4-.92-.59-1.43-.59-.52 0-1.04.2-1.43.59L10.3 9.45l-7.72 7.72c-.78.78-.78 2.05 0 2.83L4 21.41c.39.39.9.59 1.41.59.51 0 1.02-.2 1.41-.59l7.78-7.78 2.81-2.81c.8-.78.8-2.07 0-2.86zM5.41 20L4 18.59l7.72-7.72 1.47 1.35L5.41 20z\"/>\n",
              "  </svg>\n",
              "      </button>\n",
              "      \n",
              "  <style>\n",
              "    .colab-df-container {\n",
              "      display:flex;\n",
              "      flex-wrap:wrap;\n",
              "      gap: 12px;\n",
              "    }\n",
              "\n",
              "    .colab-df-convert {\n",
              "      background-color: #E8F0FE;\n",
              "      border: none;\n",
              "      border-radius: 50%;\n",
              "      cursor: pointer;\n",
              "      display: none;\n",
              "      fill: #1967D2;\n",
              "      height: 32px;\n",
              "      padding: 0 0 0 0;\n",
              "      width: 32px;\n",
              "    }\n",
              "\n",
              "    .colab-df-convert:hover {\n",
              "      background-color: #E2EBFA;\n",
              "      box-shadow: 0px 1px 2px rgba(60, 64, 67, 0.3), 0px 1px 3px 1px rgba(60, 64, 67, 0.15);\n",
              "      fill: #174EA6;\n",
              "    }\n",
              "\n",
              "    [theme=dark] .colab-df-convert {\n",
              "      background-color: #3B4455;\n",
              "      fill: #D2E3FC;\n",
              "    }\n",
              "\n",
              "    [theme=dark] .colab-df-convert:hover {\n",
              "      background-color: #434B5C;\n",
              "      box-shadow: 0px 1px 3px 1px rgba(0, 0, 0, 0.15);\n",
              "      filter: drop-shadow(0px 1px 2px rgba(0, 0, 0, 0.3));\n",
              "      fill: #FFFFFF;\n",
              "    }\n",
              "  </style>\n",
              "\n",
              "      <script>\n",
              "        const buttonEl =\n",
              "          document.querySelector('#df-b185e63a-1886-419d-a100-678ecb3bfdb4 button.colab-df-convert');\n",
              "        buttonEl.style.display =\n",
              "          google.colab.kernel.accessAllowed ? 'block' : 'none';\n",
              "\n",
              "        async function convertToInteractive(key) {\n",
              "          const element = document.querySelector('#df-b185e63a-1886-419d-a100-678ecb3bfdb4');\n",
              "          const dataTable =\n",
              "            await google.colab.kernel.invokeFunction('convertToInteractive',\n",
              "                                                     [key], {});\n",
              "          if (!dataTable) return;\n",
              "\n",
              "          const docLinkHtml = 'Like what you see? Visit the ' +\n",
              "            '<a target=\"_blank\" href=https://colab.research.google.com/notebooks/data_table.ipynb>data table notebook</a>'\n",
              "            + ' to learn more about interactive tables.';\n",
              "          element.innerHTML = '';\n",
              "          dataTable['output_type'] = 'display_data';\n",
              "          await google.colab.output.renderOutput(dataTable, element);\n",
              "          const docLink = document.createElement('div');\n",
              "          docLink.innerHTML = docLinkHtml;\n",
              "          element.appendChild(docLink);\n",
              "        }\n",
              "      </script>\n",
              "    </div>\n",
              "  </div>\n",
              "  "
            ]
          },
          "metadata": {},
          "execution_count": 28
        }
      ]
    },
    {
      "cell_type": "code",
      "source": [
        "print(df['Category'].value_counts())\n",
        "df['Category'].value_counts().plot(kind='bar')"
      ],
      "metadata": {
        "colab": {
          "base_uri": "https://localhost:8080/",
          "height": 420
        },
        "id": "mjgdPpwR1W7U",
        "outputId": "eac99409-aabd-4d22-95c5-ede18e4a0f2c"
      },
      "execution_count": 29,
      "outputs": [
        {
          "output_type": "stream",
          "name": "stdout",
          "text": [
            "Verkehrsunfälle    756\n",
            "Alkoholunfälle     504\n",
            "Fluchtunfälle      504\n",
            "Name: Category, dtype: int64\n"
          ]
        },
        {
          "output_type": "execute_result",
          "data": {
            "text/plain": [
              "<Axes: >"
            ]
          },
          "metadata": {},
          "execution_count": 29
        },
        {
          "output_type": "display_data",
          "data": {
            "text/plain": [
              "<Figure size 432x288 with 1 Axes>"
            ],
            "image/png": "[encoded data removed]"
          },
          "metadata": {
            "needs_background": "light"
          }
        }
      ]
    },
    {
      "cell_type": "markdown",
      "source": [
        "Observation: From the above analysis Verkehrsunfälle accidents are high in all years."
      ],
      "metadata": {
        "id": "pFXWPegf13my"
      }
    },
    {
      "cell_type": "markdown",
      "source": [
        "Number of accident per Month by Category"
      ],
      "metadata": {
        "id": "2HSrgPMD1mSw"
      }
    },
    {
      "cell_type": "code",
      "source": [
        "(df.groupby([df.Month,df.Category]).Category.count()).unstack()"
      ],
      "metadata": {
        "colab": {
          "base_uri": "https://localhost:8080/",
          "height": 457
        },
        "id": "6i-LmJYD1lW_",
        "outputId": "d302c4cf-d911-4f1b-f713-aae33befdef9"
      },
      "execution_count": 30,
      "outputs": [
        {
          "output_type": "execute_result",
          "data": {
            "text/plain": [
              "Category  Alkoholunfälle  Fluchtunfälle  Verkehrsunfälle\n",
              "Month                                                   \n",
              "1                     42             42               63\n",
              "2                     42             42               63\n",
              "3                     42             42               63\n",
              "4                     42             42               63\n",
              "5                     42             42               63\n",
              "6                     42             42               63\n",
              "7                     42             42               63\n",
              "8                     42             42               63\n",
              "9                     42             42               63\n",
              "10                    42             42               63\n",
              "11                    42             42               63\n",
              "12                    42             42               63"
            ],
            "text/html": [
              "\n",
              "  <div id=\"df-9da09f9b-9a04-4cee-9996-9a249266d759\">\n",
              "    <div class=\"colab-df-container\">\n",
              "      <div>\n",
              "<style scoped>\n",
              "    .dataframe tbody tr th:only-of-type {\n",
              "        vertical-align: middle;\n",
              "    }\n",
              "\n",
              "    .dataframe tbody tr th {\n",
              "        vertical-align: top;\n",
              "    }\n",
              "\n",
              "    .dataframe thead th {\n",
              "        text-align: right;\n",
              "    }\n",
              "</style>\n",
              "<table border=\"1\" class=\"dataframe\">\n",
              "  <thead>\n",
              "    <tr style=\"text-align: right;\">\n",
              "      <th>Category</th>\n",
              "      <th>Alkoholunfälle</th>\n",
              "      <th>Fluchtunfälle</th>\n",
              "      <th>Verkehrsunfälle</th>\n",
              "    </tr>\n",
              "    <tr>\n",
              "      <th>Month</th>\n",
              "      <th></th>\n",
              "      <th></th>\n",
              "      <th></th>\n",
              "    </tr>\n",
              "  </thead>\n",
              "  <tbody>\n",
              "    <tr>\n",
              "      <th>1</th>\n",
              "      <td>42</td>\n",
              "      <td>42</td>\n",
              "      <td>63</td>\n",
              "    </tr>\n",
              "    <tr>\n",
              "      <th>2</th>\n",
              "      <td>42</td>\n",
              "      <td>42</td>\n",
              "      <td>63</td>\n",
              "    </tr>\n",
              "    <tr>\n",
              "      <th>3</th>\n",
              "      <td>42</td>\n",
              "      <td>42</td>\n",
              "      <td>63</td>\n",
              "    </tr>\n",
              "    <tr>\n",
              "      <th>4</th>\n",
              "      <td>42</td>\n",
              "      <td>42</td>\n",
              "      <td>63</td>\n",
              "    </tr>\n",
              "    <tr>\n",
              "      <th>5</th>\n",
              "      <td>42</td>\n",
              "      <td>42</td>\n",
              "      <td>63</td>\n",
              "    </tr>\n",
              "    <tr>\n",
              "      <th>6</th>\n",
              "      <td>42</td>\n",
              "      <td>42</td>\n",
              "      <td>63</td>\n",
              "    </tr>\n",
              "    <tr>\n",
              "      <th>7</th>\n",
              "      <td>42</td>\n",
              "      <td>42</td>\n",
              "      <td>63</td>\n",
              "    </tr>\n",
              "    <tr>\n",
              "      <th>8</th>\n",
              "      <td>42</td>\n",
              "      <td>42</td>\n",
              "      <td>63</td>\n",
              "    </tr>\n",
              "    <tr>\n",
              "      <th>9</th>\n",
              "      <td>42</td>\n",
              "      <td>42</td>\n",
              "      <td>63</td>\n",
              "    </tr>\n",
              "    <tr>\n",
              "      <th>10</th>\n",
              "      <td>42</td>\n",
              "      <td>42</td>\n",
              "      <td>63</td>\n",
              "    </tr>\n",
              "    <tr>\n",
              "      <th>11</th>\n",
              "      <td>42</td>\n",
              "      <td>42</td>\n",
              "      <td>63</td>\n",
              "    </tr>\n",
              "    <tr>\n",
              "      <th>12</th>\n",
              "      <td>42</td>\n",
              "      <td>42</td>\n",
              "      <td>63</td>\n",
              "    </tr>\n",
              "  </tbody>\n",
              "</table>\n",
              "</div>\n",
              "      <button class=\"colab-df-convert\" onclick=\"convertToInteractive('df-9da09f9b-9a04-4cee-9996-9a249266d759')\"\n",
              "              title=\"Convert this dataframe to an interactive table.\"\n",
              "              style=\"display:none;\">\n",
              "        \n",
              "  <svg xmlns=\"http://www.w3.org/2000/svg\" height=\"24px\"viewBox=\"0 0 24 24\"\n",
              "       width=\"24px\">\n",
              "    <path d=\"M0 0h24v24H0V0z\" fill=\"none\"/>\n",
              "    <path d=\"M18.56 5.44l.94 2.06.94-2.06 2.06-.94-2.06-.94-.94-2.06-.94 2.06-2.06.94zm-11 1L8.5 8.5l.94-2.06 2.06-.94-2.06-.94L8.5 2.5l-.94 2.06-2.06.94zm10 10l.94 2.06.94-2.06 2.06-.94-2.06-.94-.94-2.06-.94 2.06-2.06.94z\"/><path d=\"M17.41 7.96l-1.37-1.37c-.4-.4-.92-.59-1.43-.59-.52 0-1.04.2-1.43.59L10.3 9.45l-7.72 7.72c-.78.78-.78 2.05 0 2.83L4 21.41c.39.39.9.59 1.41.59.51 0 1.02-.2 1.41-.59l7.78-7.78 2.81-2.81c.8-.78.8-2.07 0-2.86zM5.41 20L4 18.59l7.72-7.72 1.47 1.35L5.41 20z\"/>\n",
              "  </svg>\n",
              "      </button>\n",
              "      \n",
              "  <style>\n",
              "    .colab-df-container {\n",
              "      display:flex;\n",
              "      flex-wrap:wrap;\n",
              "      gap: 12px;\n",
              "    }\n",
              "\n",
              "    .colab-df-convert {\n",
              "      background-color: #E8F0FE;\n",
              "      border: none;\n",
              "      border-radius: 50%;\n",
              "      cursor: pointer;\n",
              "      display: none;\n",
              "      fill: #1967D2;\n",
              "      height: 32px;\n",
              "      padding: 0 0 0 0;\n",
              "      width: 32px;\n",
              "    }\n",
              "\n",
              "    .colab-df-convert:hover {\n",
              "      background-color: #E2EBFA;\n",
              "      box-shadow: 0px 1px 2px rgba(60, 64, 67, 0.3), 0px 1px 3px 1px rgba(60, 64, 67, 0.15);\n",
              "      fill: #174EA6;\n",
              "    }\n",
              "\n",
              "    [theme=dark] .colab-df-convert {\n",
              "      background-color: #3B4455;\n",
              "      fill: #D2E3FC;\n",
              "    }\n",
              "\n",
              "    [theme=dark] .colab-df-convert:hover {\n",
              "      background-color: #434B5C;\n",
              "      box-shadow: 0px 1px 3px 1px rgba(0, 0, 0, 0.15);\n",
              "      filter: drop-shadow(0px 1px 2px rgba(0, 0, 0, 0.3));\n",
              "      fill: #FFFFFF;\n",
              "    }\n",
              "  </style>\n",
              "\n",
              "      <script>\n",
              "        const buttonEl =\n",
              "          document.querySelector('#df-9da09f9b-9a04-4cee-9996-9a249266d759 button.colab-df-convert');\n",
              "        buttonEl.style.display =\n",
              "          google.colab.kernel.accessAllowed ? 'block' : 'none';\n",
              "\n",
              "        async function convertToInteractive(key) {\n",
              "          const element = document.querySelector('#df-9da09f9b-9a04-4cee-9996-9a249266d759');\n",
              "          const dataTable =\n",
              "            await google.colab.kernel.invokeFunction('convertToInteractive',\n",
              "                                                     [key], {});\n",
              "          if (!dataTable) return;\n",
              "\n",
              "          const docLinkHtml = 'Like what you see? Visit the ' +\n",
              "            '<a target=\"_blank\" href=https://colab.research.google.com/notebooks/data_table.ipynb>data table notebook</a>'\n",
              "            + ' to learn more about interactive tables.';\n",
              "          element.innerHTML = '';\n",
              "          dataTable['output_type'] = 'display_data';\n",
              "          await google.colab.output.renderOutput(dataTable, element);\n",
              "          const docLink = document.createElement('div');\n",
              "          docLink.innerHTML = docLinkHtml;\n",
              "          element.appendChild(docLink);\n",
              "        }\n",
              "      </script>\n",
              "    </div>\n",
              "  </div>\n",
              "  "
            ]
          },
          "metadata": {},
          "execution_count": 30
        }
      ]
    },
    {
      "cell_type": "code",
      "source": [
        "df['Month'].value_counts().plot(kind='bar')"
      ],
      "metadata": {
        "colab": {
          "base_uri": "https://localhost:8080/",
          "height": 285
        },
        "id": "nUa24-Hh1tF3",
        "outputId": "a5e26ffe-096d-409d-c2b4-ceb49f378abf"
      },
      "execution_count": 31,
      "outputs": [
        {
          "output_type": "execute_result",
          "data": {
            "text/plain": [
              "<Axes: >"
            ]
          },
          "metadata": {},
          "execution_count": 31
        },
        {
          "output_type": "display_data",
          "data": {
            "text/plain": [
              "<Figure size 432x288 with 1 Axes>"
            ],
            "image/png": "[encoded data removed]"
          },
          "metadata": {
            "needs_background": "light"
          }
        }
      ]
    },
    {
      "cell_type": "markdown",
      "source": [
        "observation: From the above graph all the months are sharing equal number of accidents."
      ],
      "metadata": {
        "id": "PKmFd3Zd1yMn"
      }
    },
    {
      "cell_type": "code",
      "source": [
        "(df.groupby([df[\"Accident_Type\"],df.Category]).Category.count()).unstack()"
      ],
      "metadata": {
        "colab": {
          "base_uri": "https://localhost:8080/",
          "height": 175
        },
        "id": "YGnES38u2AGk",
        "outputId": "918fa3f7-af53-43c8-d879-6fe202857fa0"
      },
      "execution_count": 32,
      "outputs": [
        {
          "output_type": "execute_result",
          "data": {
            "text/plain": [
              "Category                Alkoholunfälle  Fluchtunfälle  Verkehrsunfälle\n",
              "Accident_Type                                                         \n",
              "Verletzte und Getötete           252.0          252.0            252.0\n",
              "insgesamt                        252.0          252.0            252.0\n",
              "mit Personenschäden                NaN            NaN            252.0"
            ],
            "text/html": [
              "\n",
              "  <div id=\"df-1e5060ed-a663-4467-8033-c6ed03c8a590\">\n",
              "    <div class=\"colab-df-container\">\n",
              "      <div>\n",
              "<style scoped>\n",
              "    .dataframe tbody tr th:only-of-type {\n",
              "        vertical-align: middle;\n",
              "    }\n",
              "\n",
              "    .dataframe tbody tr th {\n",
              "        vertical-align: top;\n",
              "    }\n",
              "\n",
              "    .dataframe thead th {\n",
              "        text-align: right;\n",
              "    }\n",
              "</style>\n",
              "<table border=\"1\" class=\"dataframe\">\n",
              "  <thead>\n",
              "    <tr style=\"text-align: right;\">\n",
              "      <th>Category</th>\n",
              "      <th>Alkoholunfälle</th>\n",
              "      <th>Fluchtunfälle</th>\n",
              "      <th>Verkehrsunfälle</th>\n",
              "    </tr>\n",
              "    <tr>\n",
              "      <th>Accident_Type</th>\n",
              "      <th></th>\n",
              "      <th></th>\n",
              "      <th></th>\n",
              "    </tr>\n",
              "  </thead>\n",
              "  <tbody>\n",
              "    <tr>\n",
              "      <th>Verletzte und Getötete</th>\n",
              "      <td>252.0</td>\n",
              "      <td>252.0</td>\n",
              "      <td>252.0</td>\n",
              "    </tr>\n",
              "    <tr>\n",
              "      <th>insgesamt</th>\n",
              "      <td>252.0</td>\n",
              "      <td>252.0</td>\n",
              "      <td>252.0</td>\n",
              "    </tr>\n",
              "    <tr>\n",
              "      <th>mit Personenschäden</th>\n",
              "      <td>NaN</td>\n",
              "      <td>NaN</td>\n",
              "      <td>252.0</td>\n",
              "    </tr>\n",
              "  </tbody>\n",
              "</table>\n",
              "</div>\n",
              "      <button class=\"colab-df-convert\" onclick=\"convertToInteractive('df-1e5060ed-a663-4467-8033-c6ed03c8a590')\"\n",
              "              title=\"Convert this dataframe to an interactive table.\"\n",
              "              style=\"display:none;\">\n",
              "        \n",
              "  <svg xmlns=\"http://www.w3.org/2000/svg\" height=\"24px\"viewBox=\"0 0 24 24\"\n",
              "       width=\"24px\">\n",
              "    <path d=\"M0 0h24v24H0V0z\" fill=\"none\"/>\n",
              "    <path d=\"M18.56 5.44l.94 2.06.94-2.06 2.06-.94-2.06-.94-.94-2.06-.94 2.06-2.06.94zm-11 1L8.5 8.5l.94-2.06 2.06-.94-2.06-.94L8.5 2.5l-.94 2.06-2.06.94zm10 10l.94 2.06.94-2.06 2.06-.94-2.06-.94-.94-2.06-.94 2.06-2.06.94z\"/><path d=\"M17.41 7.96l-1.37-1.37c-.4-.4-.92-.59-1.43-.59-.52 0-1.04.2-1.43.59L10.3 9.45l-7.72 7.72c-.78.78-.78 2.05 0 2.83L4 21.41c.39.39.9.59 1.41.59.51 0 1.02-.2 1.41-.59l7.78-7.78 2.81-2.81c.8-.78.8-2.07 0-2.86zM5.41 20L4 18.59l7.72-7.72 1.47 1.35L5.41 20z\"/>\n",
              "  </svg>\n",
              "      </button>\n",
              "      \n",
              "  <style>\n",
              "    .colab-df-container {\n",
              "      display:flex;\n",
              "      flex-wrap:wrap;\n",
              "      gap: 12px;\n",
              "    }\n",
              "\n",
              "    .colab-df-convert {\n",
              "      background-color: #E8F0FE;\n",
              "      border: none;\n",
              "      border-radius: 50%;\n",
              "      cursor: pointer;\n",
              "      display: none;\n",
              "      fill: #1967D2;\n",
              "      height: 32px;\n",
              "      padding: 0 0 0 0;\n",
              "      width: 32px;\n",
              "    }\n",
              "\n",
              "    .colab-df-convert:hover {\n",
              "      background-color: #E2EBFA;\n",
              "      box-shadow: 0px 1px 2px rgba(60, 64, 67, 0.3), 0px 1px 3px 1px rgba(60, 64, 67, 0.15);\n",
              "      fill: #174EA6;\n",
              "    }\n",
              "\n",
              "    [theme=dark] .colab-df-convert {\n",
              "      background-color: #3B4455;\n",
              "      fill: #D2E3FC;\n",
              "    }\n",
              "\n",
              "    [theme=dark] .colab-df-convert:hover {\n",
              "      background-color: #434B5C;\n",
              "      box-shadow: 0px 1px 3px 1px rgba(0, 0, 0, 0.15);\n",
              "      filter: drop-shadow(0px 1px 2px rgba(0, 0, 0, 0.3));\n",
              "      fill: #FFFFFF;\n",
              "    }\n",
              "  </style>\n",
              "\n",
              "      <script>\n",
              "        const buttonEl =\n",
              "          document.querySelector('#df-1e5060ed-a663-4467-8033-c6ed03c8a590 button.colab-df-convert');\n",
              "        buttonEl.style.display =\n",
              "          google.colab.kernel.accessAllowed ? 'block' : 'none';\n",
              "\n",
              "        async function convertToInteractive(key) {\n",
              "          const element = document.querySelector('#df-1e5060ed-a663-4467-8033-c6ed03c8a590');\n",
              "          const dataTable =\n",
              "            await google.colab.kernel.invokeFunction('convertToInteractive',\n",
              "                                                     [key], {});\n",
              "          if (!dataTable) return;\n",
              "\n",
              "          const docLinkHtml = 'Like what you see? Visit the ' +\n",
              "            '<a target=\"_blank\" href=https://colab.research.google.com/notebooks/data_table.ipynb>data table notebook</a>'\n",
              "            + ' to learn more about interactive tables.';\n",
              "          element.innerHTML = '';\n",
              "          dataTable['output_type'] = 'display_data';\n",
              "          await google.colab.output.renderOutput(dataTable, element);\n",
              "          const docLink = document.createElement('div');\n",
              "          docLink.innerHTML = docLinkHtml;\n",
              "          element.appendChild(docLink);\n",
              "        }\n",
              "      </script>\n",
              "    </div>\n",
              "  </div>\n",
              "  "
            ]
          },
          "metadata": {},
          "execution_count": 32
        }
      ]
    },
    {
      "cell_type": "code",
      "source": [
        "df['Accident_Type'].value_counts().plot(kind='bar')"
      ],
      "metadata": {
        "colab": {
          "base_uri": "https://localhost:8080/",
          "height": 386
        },
        "id": "GQBBSbGu2BEb",
        "outputId": "d0f1251b-d47f-4157-8092-a8d0f58b6298"
      },
      "execution_count": 33,
      "outputs": [
        {
          "output_type": "execute_result",
          "data": {
            "text/plain": [
              "<Axes: >"
            ]
          },
          "metadata": {},
          "execution_count": 33
        },
        {
          "output_type": "display_data",
          "data": {
            "text/plain": [
              "<Figure size 432x288 with 1 Axes>"
            ],
            "image/png": "[encoded data removed]"
          },
          "metadata": {
            "needs_background": "light"
          }
        }
      ]
    },
    {
      "cell_type": "markdown",
      "source": [
        "Observation: From the above graph insgesamt and Verletzte und Getötete accidents are more than mit Personenschäden accidents"
      ],
      "metadata": {
        "id": "Ml66Lfg_2OKu"
      }
    },
    {
      "cell_type": "code",
      "source": [
        "# Visualizing dataset using dabl library\n",
        "import dabl\n",
        "dabl.plot(df, target_col='Value')"
      ],
      "metadata": {
        "colab": {
          "base_uri": "https://localhost:8080/",
          "height": 1000
        },
        "id": "uEZA4ffz2BTD",
        "outputId": "1d0e6ee9-3570-421a-8c2f-84feeb163a33"
      },
      "execution_count": 34,
      "outputs": [
        {
          "output_type": "stream",
          "name": "stdout",
          "text": [
            "Target looks like regression\n"
          ]
        },
        {
          "output_type": "execute_result",
          "data": {
            "text/plain": [
              "[<Axes: title={'center': 'Target distribution'}, xlabel='Value', ylabel='frequency'>,\n",
              " array([[<Axes: title={'center': 'F=6.95E-02'}, xlabel='Month (jittered)', ylabel='Value'>,\n",
              "         <Axes: title={'center': 'F=-5.30E-02'}, xlabel='Year (jittered)'>]],\n",
              "       dtype=object),\n",
              " array([[<Axes: title={'center': 'F=7.68E-01'}, xlabel='Value', ylabel='Category'>,\n",
              "         <Axes: title={'center': 'F=5.00E-01'}, xlabel='Value', ylabel='Accident_Type'>]],\n",
              "       dtype=object)]"
            ]
          },
          "metadata": {},
          "execution_count": 34
        },
        {
          "output_type": "display_data",
          "data": {
            "text/plain": [
              "<Figure size 432x288 with 1 Axes>"
            ],
            "image/png": "[encoded data removed]"
          },
          "metadata": {
            "needs_background": "light"
          }
        },
        {
          "output_type": "display_data",
          "data": {
            "text/plain": [
              "<Figure size 576x216 with 2 Axes>"
            ],
            "image/png": "[encoded data removed]"
          },
          "metadata": {
            "needs_background": "light"
          }
        },
        {
          "output_type": "display_data",
          "data": {
            "text/plain": [
              "<Figure size 576x360 with 2 Axes>"
            ],
            "image/png": "[encoded data removed]"
          },
          "metadata": {
            "needs_background": "light"
          }
        }
      ]
    },
    {
      "cell_type": "markdown",
      "source": [
        "Observation: Using just one line of code, we can visualize the relationships between input features and a target variable."
      ],
      "metadata": {
        "id": "KU0vPXdE2uAo"
      }
    },
    {
      "cell_type": "markdown",
      "source": [
        "Association between the ‘Category’ column and target ‘Value’"
      ],
      "metadata": {
        "id": "ISy5bpr724Pi"
      }
    },
    {
      "cell_type": "code",
      "source": [
        "# plot the bar plot of Category and Accident-type\n",
        "plt.figure(figsize=(10,8))\n",
        "sns.countplot(y='Accident_Type', hue='Category', data=df)\n",
        "plt.ylabel('Category')\n",
        "plt.yticks(rotation=0)\n",
        "plt.show"
      ],
      "metadata": {
        "colab": {
          "base_uri": "https://localhost:8080/",
          "height": 514
        },
        "id": "5n0tBWOH2BfS",
        "outputId": "95e8b049-351f-495e-83f6-0dd8ab0a2eb8"
      },
      "execution_count": 35,
      "outputs": [
        {
          "output_type": "execute_result",
          "data": {
            "text/plain": [
              "<function matplotlib.pyplot.show(close=None, block=None)>"
            ]
          },
          "metadata": {},
          "execution_count": 35
        },
        {
          "output_type": "display_data",
          "data": {
            "text/plain": [
              "<Figure size 720x576 with 1 Axes>"
            ],
            "image/png": "[encoded data removed]"
          },
          "metadata": {
            "needs_background": "light"
          }
        }
      ]
    },
    {
      "cell_type": "code",
      "source": [
        "# plot the bar plot of Category and year\n",
        "plt.figure(figsize=(6,5))\n",
        "sns.countplot(x='Year', hue='Category', data=df)\n",
        "plt.xlabel('Category')\n",
        "plt.xticks(rotation=60)\n",
        "plt.show"
      ],
      "metadata": {
        "colab": {
          "base_uri": "https://localhost:8080/",
          "height": 368
        },
        "id": "c3QCnidE3k8F",
        "outputId": "eb225ed6-5180-4694-9e33-a89bfc754032"
      },
      "execution_count": 39,
      "outputs": [
        {
          "output_type": "execute_result",
          "data": {
            "text/plain": [
              "<function matplotlib.pyplot.show(close=None, block=None)>"
            ]
          },
          "metadata": {},
          "execution_count": 39
        },
        {
          "output_type": "display_data",
          "data": {
            "text/plain": [
              "<Figure size 432x360 with 1 Axes>"
            ],
            "image/png": "[encoded data removed]"
          },
          "metadata": {
            "needs_background": "light"
          }
        }
      ]
    },
    {
      "cell_type": "code",
      "source": [
        "# plot the bar plot of Category and Month\n",
        "plt.figure(figsize=(6,5))\n",
        "sns.countplot(x='Month', hue='Category', data=df)\n",
        "plt.xlabel('Category')\n",
        "plt.xticks(rotation=60)\n",
        "plt.show"
      ],
      "metadata": {
        "id": "hFzaOZHQ3qwd",
        "colab": {
          "base_uri": "https://localhost:8080/",
          "height": 357
        },
        "outputId": "af88afd8-7664-4dcd-ac26-0bc2b75fd852"
      },
      "execution_count": 40,
      "outputs": [
        {
          "output_type": "execute_result",
          "data": {
            "text/plain": [
              "<function matplotlib.pyplot.show(close=None, block=None)>"
            ]
          },
          "metadata": {},
          "execution_count": 40
        },
        {
          "output_type": "display_data",
          "data": {
            "text/plain": [
              "<Figure size 432x360 with 1 Axes>"
            ],
            "image/png": "[encoded data removed]"
          },
          "metadata": {
            "needs_background": "light"
          }
        }
      ]
    },
    {
      "cell_type": "markdown",
      "source": [
        "Observation: From the all above visualization we observining the Verkehrsunfälle Accident category the maximun times happend."
      ],
      "metadata": {
        "id": "i70vJuHD3vnd"
      }
    },
    {
      "cell_type": "code",
      "source": [
        "sns.distplot(df.Value)\n",
        "plt.show()"
      ],
      "metadata": {
        "id": "4HT9C8DP3200",
        "colab": {
          "base_uri": "https://localhost:8080/",
          "height": 279
        },
        "outputId": "5006c683-f120-4384-ee9f-fcd55a39031a"
      },
      "execution_count": 41,
      "outputs": [
        {
          "output_type": "display_data",
          "data": {
            "text/plain": [
              "<Figure size 432x288 with 1 Axes>"
            ],
            "image/png": "[encoded data removed]"
          },
          "metadata": {
            "needs_background": "light"
          }
        }
      ]
    },
    {
      "cell_type": "code",
      "source": [
        "df.Value.hist()"
      ],
      "metadata": {
        "id": "GP2GEfPl35ek",
        "colab": {
          "base_uri": "https://localhost:8080/",
          "height": 282
        },
        "outputId": "7072bd78-5358-451c-fe05-eae9bfb76229"
      },
      "execution_count": 37,
      "outputs": [
        {
          "output_type": "execute_result",
          "data": {
            "text/plain": [
              "<Axes: >"
            ]
          },
          "metadata": {},
          "execution_count": 37
        },
        {
          "output_type": "display_data",
          "data": {
            "text/plain": [
              "<Figure size 432x288 with 1 Axes>"
            ],
            "image/png": "[encoded data removed]"
          },
          "metadata": {
            "needs_background": "light"
          }
        }
      ]
    },
    {
      "cell_type": "markdown",
      "source": [
        "Observation: \n",
        "* From the above graph the target column data is not normally disributed.\n",
        "\n",
        "* ML models work very well in the case of non-normally distributed data also. Models like decision tree, Random forest and XgBoost etc. Don’t assume any normality and work on raw data as well."
      ],
      "metadata": {
        "id": "z00-URR-4Iog"
      }
    },
    {
      "cell_type": "markdown",
      "source": [
        "Co-relation Matrix"
      ],
      "metadata": {
        "id": "igna7yKDM-pq"
      }
    },
    {
      "cell_type": "code",
      "source": [
        "corr = df.corr(method = 'spearman')\n",
        "sns.heatmap(corr, \n",
        "            xticklabels=corr.columns.values,\n",
        "            yticklabels=corr.columns.values)"
      ],
      "metadata": {
        "colab": {
          "base_uri": "https://localhost:8080/",
          "height": 286
        },
        "id": "agDxyPM6M997",
        "outputId": "a54fbf61-5557-47c4-e46d-5e116d7ca937"
      },
      "execution_count": 42,
      "outputs": [
        {
          "output_type": "execute_result",
          "data": {
            "text/plain": [
              "<Axes: >"
            ]
          },
          "metadata": {},
          "execution_count": 42
        },
        {
          "output_type": "display_data",
          "data": {
            "text/plain": [
              "<Figure size 432x288 with 2 Axes>"
            ],
            "image/png": "[encoded data removed]"
          },
          "metadata": {
            "needs_background": "light"
          }
        }
      ]
    },
    {
      "cell_type": "code",
      "source": [
        "df_with_2022.head()"
      ],
      "metadata": {
        "colab": {
          "base_uri": "https://localhost:8080/",
          "height": 206
        },
        "id": "qVTAL4G-TNE2",
        "outputId": "5fc7c1d6-64e0-4413-bc83-4e51e8582664"
      },
      "execution_count": 78,
      "outputs": [
        {
          "output_type": "execute_result",
          "data": {
            "text/plain": [
              "         Category Accident_Type  Year  Month  Value\n",
              "0  Alkoholunfälle     insgesamt  2021      1     16\n",
              "1  Alkoholunfälle     insgesamt  2021      2     14\n",
              "2  Alkoholunfälle     insgesamt  2021      3     24\n",
              "3  Alkoholunfälle     insgesamt  2021      4     16\n",
              "4  Alkoholunfälle     insgesamt  2021      5     24"
            ],
            "text/html": [
              "\n",
              "  <div id=\"df-23f8857c-2c67-4558-8136-a6a515150e50\">\n",
              "    <div class=\"colab-df-container\">\n",
              "      <div>\n",
              "<style scoped>\n",
              "    .dataframe tbody tr th:only-of-type {\n",
              "        vertical-align: middle;\n",
              "    }\n",
              "\n",
              "    .dataframe tbody tr th {\n",
              "        vertical-align: top;\n",
              "    }\n",
              "\n",
              "    .dataframe thead th {\n",
              "        text-align: right;\n",
              "    }\n",
              "</style>\n",
              "<table border=\"1\" class=\"dataframe\">\n",
              "  <thead>\n",
              "    <tr style=\"text-align: right;\">\n",
              "      <th></th>\n",
              "      <th>Category</th>\n",
              "      <th>Accident_Type</th>\n",
              "      <th>Year</th>\n",
              "      <th>Month</th>\n",
              "      <th>Value</th>\n",
              "    </tr>\n",
              "  </thead>\n",
              "  <tbody>\n",
              "    <tr>\n",
              "      <th>0</th>\n",
              "      <td>Alkoholunfälle</td>\n",
              "      <td>insgesamt</td>\n",
              "      <td>2021</td>\n",
              "      <td>1</td>\n",
              "      <td>16</td>\n",
              "    </tr>\n",
              "    <tr>\n",
              "      <th>1</th>\n",
              "      <td>Alkoholunfälle</td>\n",
              "      <td>insgesamt</td>\n",
              "      <td>2021</td>\n",
              "      <td>2</td>\n",
              "      <td>14</td>\n",
              "    </tr>\n",
              "    <tr>\n",
              "      <th>2</th>\n",
              "      <td>Alkoholunfälle</td>\n",
              "      <td>insgesamt</td>\n",
              "      <td>2021</td>\n",
              "      <td>3</td>\n",
              "      <td>24</td>\n",
              "    </tr>\n",
              "    <tr>\n",
              "      <th>3</th>\n",
              "      <td>Alkoholunfälle</td>\n",
              "      <td>insgesamt</td>\n",
              "      <td>2021</td>\n",
              "      <td>4</td>\n",
              "      <td>16</td>\n",
              "    </tr>\n",
              "    <tr>\n",
              "      <th>4</th>\n",
              "      <td>Alkoholunfälle</td>\n",
              "      <td>insgesamt</td>\n",
              "      <td>2021</td>\n",
              "      <td>5</td>\n",
              "      <td>24</td>\n",
              "    </tr>\n",
              "  </tbody>\n",
              "</table>\n",
              "</div>\n",
              "      <button class=\"colab-df-convert\" onclick=\"convertToInteractive('df-23f8857c-2c67-4558-8136-a6a515150e50')\"\n",
              "              title=\"Convert this dataframe to an interactive table.\"\n",
              "              style=\"display:none;\">\n",
              "        \n",
              "  <svg xmlns=\"http://www.w3.org/2000/svg\" height=\"24px\"viewBox=\"0 0 24 24\"\n",
              "       width=\"24px\">\n",
              "    <path d=\"M0 0h24v24H0V0z\" fill=\"none\"/>\n",
              "    <path d=\"M18.56 5.44l.94 2.06.94-2.06 2.06-.94-2.06-.94-.94-2.06-.94 2.06-2.06.94zm-11 1L8.5 8.5l.94-2.06 2.06-.94-2.06-.94L8.5 2.5l-.94 2.06-2.06.94zm10 10l.94 2.06.94-2.06 2.06-.94-2.06-.94-.94-2.06-.94 2.06-2.06.94z\"/><path d=\"M17.41 7.96l-1.37-1.37c-.4-.4-.92-.59-1.43-.59-.52 0-1.04.2-1.43.59L10.3 9.45l-7.72 7.72c-.78.78-.78 2.05 0 2.83L4 21.41c.39.39.9.59 1.41.59.51 0 1.02-.2 1.41-.59l7.78-7.78 2.81-2.81c.8-.78.8-2.07 0-2.86zM5.41 20L4 18.59l7.72-7.72 1.47 1.35L5.41 20z\"/>\n",
              "  </svg>\n",
              "      </button>\n",
              "      \n",
              "  <style>\n",
              "    .colab-df-container {\n",
              "      display:flex;\n",
              "      flex-wrap:wrap;\n",
              "      gap: 12px;\n",
              "    }\n",
              "\n",
              "    .colab-df-convert {\n",
              "      background-color: #E8F0FE;\n",
              "      border: none;\n",
              "      border-radius: 50%;\n",
              "      cursor: pointer;\n",
              "      display: none;\n",
              "      fill: #1967D2;\n",
              "      height: 32px;\n",
              "      padding: 0 0 0 0;\n",
              "      width: 32px;\n",
              "    }\n",
              "\n",
              "    .colab-df-convert:hover {\n",
              "      background-color: #E2EBFA;\n",
              "      box-shadow: 0px 1px 2px rgba(60, 64, 67, 0.3), 0px 1px 3px 1px rgba(60, 64, 67, 0.15);\n",
              "      fill: #174EA6;\n",
              "    }\n",
              "\n",
              "    [theme=dark] .colab-df-convert {\n",
              "      background-color: #3B4455;\n",
              "      fill: #D2E3FC;\n",
              "    }\n",
              "\n",
              "    [theme=dark] .colab-df-convert:hover {\n",
              "      background-color: #434B5C;\n",
              "      box-shadow: 0px 1px 3px 1px rgba(0, 0, 0, 0.15);\n",
              "      filter: drop-shadow(0px 1px 2px rgba(0, 0, 0, 0.3));\n",
              "      fill: #FFFFFF;\n",
              "    }\n",
              "  </style>\n",
              "\n",
              "      <script>\n",
              "        const buttonEl =\n",
              "          document.querySelector('#df-23f8857c-2c67-4558-8136-a6a515150e50 button.colab-df-convert');\n",
              "        buttonEl.style.display =\n",
              "          google.colab.kernel.accessAllowed ? 'block' : 'none';\n",
              "\n",
              "        async function convertToInteractive(key) {\n",
              "          const element = document.querySelector('#df-23f8857c-2c67-4558-8136-a6a515150e50');\n",
              "          const dataTable =\n",
              "            await google.colab.kernel.invokeFunction('convertToInteractive',\n",
              "                                                     [key], {});\n",
              "          if (!dataTable) return;\n",
              "\n",
              "          const docLinkHtml = 'Like what you see? Visit the ' +\n",
              "            '<a target=\"_blank\" href=https://colab.research.google.com/notebooks/data_table.ipynb>data table notebook</a>'\n",
              "            + ' to learn more about interactive tables.';\n",
              "          element.innerHTML = '';\n",
              "          dataTable['output_type'] = 'display_data';\n",
              "          await google.colab.output.renderOutput(dataTable, element);\n",
              "          const docLink = document.createElement('div');\n",
              "          docLink.innerHTML = docLinkHtml;\n",
              "          element.appendChild(docLink);\n",
              "        }\n",
              "      </script>\n",
              "    </div>\n",
              "  </div>\n",
              "  "
            ]
          },
          "metadata": {},
          "execution_count": 78
        }
      ]
    },
    {
      "cell_type": "code",
      "source": [
        "df_with_2022"
      ],
      "metadata": {
        "colab": {
          "base_uri": "https://localhost:8080/",
          "height": 423
        },
        "id": "GWQmr0YVVEyN",
        "outputId": "8796814f-81ce-46fd-d0e6-aee40853a4ce"
      },
      "execution_count": 87,
      "outputs": [
        {
          "output_type": "execute_result",
          "data": {
            "text/plain": [
              "             Category           Accident_Type  Year  Month  Value\n",
              "0      Alkoholunfälle               insgesamt  2021      1     16\n",
              "1      Alkoholunfälle               insgesamt  2021      2     14\n",
              "2      Alkoholunfälle               insgesamt  2021      3     24\n",
              "3      Alkoholunfälle               insgesamt  2021      4     16\n",
              "4      Alkoholunfälle               insgesamt  2021      5     24\n",
              "...               ...                     ...   ...    ...    ...\n",
              "1843  Verkehrsunfälle  Verletzte und Getötete  2000      8    647\n",
              "1844  Verkehrsunfälle  Verletzte und Getötete  2000      9    675\n",
              "1845  Verkehrsunfälle  Verletzte und Getötete  2000     10    615\n",
              "1846  Verkehrsunfälle  Verletzte und Getötete  2000     11    578\n",
              "1847  Verkehrsunfälle  Verletzte und Getötete  2000     12    515\n",
              "\n",
              "[1848 rows x 5 columns]"
            ],
            "text/html": [
              "\n",
              "  <div id=\"df-473149fe-bce2-4323-942e-2715b39a6741\">\n",
              "    <div class=\"colab-df-container\">\n",
              "      <div>\n",
              "<style scoped>\n",
              "    .dataframe tbody tr th:only-of-type {\n",
              "        vertical-align: middle;\n",
              "    }\n",
              "\n",
              "    .dataframe tbody tr th {\n",
              "        vertical-align: top;\n",
              "    }\n",
              "\n",
              "    .dataframe thead th {\n",
              "        text-align: right;\n",
              "    }\n",
              "</style>\n",
              "<table border=\"1\" class=\"dataframe\">\n",
              "  <thead>\n",
              "    <tr style=\"text-align: right;\">\n",
              "      <th></th>\n",
              "      <th>Category</th>\n",
              "      <th>Accident_Type</th>\n",
              "      <th>Year</th>\n",
              "      <th>Month</th>\n",
              "      <th>Value</th>\n",
              "    </tr>\n",
              "  </thead>\n",
              "  <tbody>\n",
              "    <tr>\n",
              "      <th>0</th>\n",
              "      <td>Alkoholunfälle</td>\n",
              "      <td>insgesamt</td>\n",
              "      <td>2021</td>\n",
              "      <td>1</td>\n",
              "      <td>16</td>\n",
              "    </tr>\n",
              "    <tr>\n",
              "      <th>1</th>\n",
              "      <td>Alkoholunfälle</td>\n",
              "      <td>insgesamt</td>\n",
              "      <td>2021</td>\n",
              "      <td>2</td>\n",
              "      <td>14</td>\n",
              "    </tr>\n",
              "    <tr>\n",
              "      <th>2</th>\n",
              "      <td>Alkoholunfälle</td>\n",
              "      <td>insgesamt</td>\n",
              "      <td>2021</td>\n",
              "      <td>3</td>\n",
              "      <td>24</td>\n",
              "    </tr>\n",
              "    <tr>\n",
              "      <th>3</th>\n",
              "      <td>Alkoholunfälle</td>\n",
              "      <td>insgesamt</td>\n",
              "      <td>2021</td>\n",
              "      <td>4</td>\n",
              "      <td>16</td>\n",
              "    </tr>\n",
              "    <tr>\n",
              "      <th>4</th>\n",
              "      <td>Alkoholunfälle</td>\n",
              "      <td>insgesamt</td>\n",
              "      <td>2021</td>\n",
              "      <td>5</td>\n",
              "      <td>24</td>\n",
              "    </tr>\n",
              "    <tr>\n",
              "      <th>...</th>\n",
              "      <td>...</td>\n",
              "      <td>...</td>\n",
              "      <td>...</td>\n",
              "      <td>...</td>\n",
              "      <td>...</td>\n",
              "    </tr>\n",
              "    <tr>\n",
              "      <th>1843</th>\n",
              "      <td>Verkehrsunfälle</td>\n",
              "      <td>Verletzte und Getötete</td>\n",
              "      <td>2000</td>\n",
              "      <td>8</td>\n",
              "      <td>647</td>\n",
              "    </tr>\n",
              "    <tr>\n",
              "      <th>1844</th>\n",
              "      <td>Verkehrsunfälle</td>\n",
              "      <td>Verletzte und Getötete</td>\n",
              "      <td>2000</td>\n",
              "      <td>9</td>\n",
              "      <td>675</td>\n",
              "    </tr>\n",
              "    <tr>\n",
              "      <th>1845</th>\n",
              "      <td>Verkehrsunfälle</td>\n",
              "      <td>Verletzte und Getötete</td>\n",
              "      <td>2000</td>\n",
              "      <td>10</td>\n",
              "      <td>615</td>\n",
              "    </tr>\n",
              "    <tr>\n",
              "      <th>1846</th>\n",
              "      <td>Verkehrsunfälle</td>\n",
              "      <td>Verletzte und Getötete</td>\n",
              "      <td>2000</td>\n",
              "      <td>11</td>\n",
              "      <td>578</td>\n",
              "    </tr>\n",
              "    <tr>\n",
              "      <th>1847</th>\n",
              "      <td>Verkehrsunfälle</td>\n",
              "      <td>Verletzte und Getötete</td>\n",
              "      <td>2000</td>\n",
              "      <td>12</td>\n",
              "      <td>515</td>\n",
              "    </tr>\n",
              "  </tbody>\n",
              "</table>\n",
              "<p>1848 rows × 5 columns</p>\n",
              "</div>\n",
              "      <button class=\"colab-df-convert\" onclick=\"convertToInteractive('df-473149fe-bce2-4323-942e-2715b39a6741')\"\n",
              "              title=\"Convert this dataframe to an interactive table.\"\n",
              "              style=\"display:none;\">\n",
              "        \n",
              "  <svg xmlns=\"http://www.w3.org/2000/svg\" height=\"24px\"viewBox=\"0 0 24 24\"\n",
              "       width=\"24px\">\n",
              "    <path d=\"M0 0h24v24H0V0z\" fill=\"none\"/>\n",
              "    <path d=\"M18.56 5.44l.94 2.06.94-2.06 2.06-.94-2.06-.94-.94-2.06-.94 2.06-2.06.94zm-11 1L8.5 8.5l.94-2.06 2.06-.94-2.06-.94L8.5 2.5l-.94 2.06-2.06.94zm10 10l.94 2.06.94-2.06 2.06-.94-2.06-.94-.94-2.06-.94 2.06-2.06.94z\"/><path d=\"M17.41 7.96l-1.37-1.37c-.4-.4-.92-.59-1.43-.59-.52 0-1.04.2-1.43.59L10.3 9.45l-7.72 7.72c-.78.78-.78 2.05 0 2.83L4 21.41c.39.39.9.59 1.41.59.51 0 1.02-.2 1.41-.59l7.78-7.78 2.81-2.81c.8-.78.8-2.07 0-2.86zM5.41 20L4 18.59l7.72-7.72 1.47 1.35L5.41 20z\"/>\n",
              "  </svg>\n",
              "      </button>\n",
              "      \n",
              "  <style>\n",
              "    .colab-df-container {\n",
              "      display:flex;\n",
              "      flex-wrap:wrap;\n",
              "      gap: 12px;\n",
              "    }\n",
              "\n",
              "    .colab-df-convert {\n",
              "      background-color: #E8F0FE;\n",
              "      border: none;\n",
              "      border-radius: 50%;\n",
              "      cursor: pointer;\n",
              "      display: none;\n",
              "      fill: #1967D2;\n",
              "      height: 32px;\n",
              "      padding: 0 0 0 0;\n",
              "      width: 32px;\n",
              "    }\n",
              "\n",
              "    .colab-df-convert:hover {\n",
              "      background-color: #E2EBFA;\n",
              "      box-shadow: 0px 1px 2px rgba(60, 64, 67, 0.3), 0px 1px 3px 1px rgba(60, 64, 67, 0.15);\n",
              "      fill: #174EA6;\n",
              "    }\n",
              "\n",
              "    [theme=dark] .colab-df-convert {\n",
              "      background-color: #3B4455;\n",
              "      fill: #D2E3FC;\n",
              "    }\n",
              "\n",
              "    [theme=dark] .colab-df-convert:hover {\n",
              "      background-color: #434B5C;\n",
              "      box-shadow: 0px 1px 3px 1px rgba(0, 0, 0, 0.15);\n",
              "      filter: drop-shadow(0px 1px 2px rgba(0, 0, 0, 0.3));\n",
              "      fill: #FFFFFF;\n",
              "    }\n",
              "  </style>\n",
              "\n",
              "      <script>\n",
              "        const buttonEl =\n",
              "          document.querySelector('#df-473149fe-bce2-4323-942e-2715b39a6741 button.colab-df-convert');\n",
              "        buttonEl.style.display =\n",
              "          google.colab.kernel.accessAllowed ? 'block' : 'none';\n",
              "\n",
              "        async function convertToInteractive(key) {\n",
              "          const element = document.querySelector('#df-473149fe-bce2-4323-942e-2715b39a6741');\n",
              "          const dataTable =\n",
              "            await google.colab.kernel.invokeFunction('convertToInteractive',\n",
              "                                                     [key], {});\n",
              "          if (!dataTable) return;\n",
              "\n",
              "          const docLinkHtml = 'Like what you see? Visit the ' +\n",
              "            '<a target=\"_blank\" href=https://colab.research.google.com/notebooks/data_table.ipynb>data table notebook</a>'\n",
              "            + ' to learn more about interactive tables.';\n",
              "          element.innerHTML = '';\n",
              "          dataTable['output_type'] = 'display_data';\n",
              "          await google.colab.output.renderOutput(dataTable, element);\n",
              "          const docLink = document.createElement('div');\n",
              "          docLink.innerHTML = docLinkHtml;\n",
              "          element.appendChild(docLink);\n",
              "        }\n",
              "      </script>\n",
              "    </div>\n",
              "  </div>\n",
              "  "
            ]
          },
          "metadata": {},
          "execution_count": 87
        }
      ]
    },
    {
      "cell_type": "code",
      "source": [
        "# Data Visualization\n",
        "\n",
        "df_2020 = data[data['Year'] < 2021]\n",
        "\n",
        "Verkehrsunfälle = df_2020[( (df_2020['Category'] == 'Verkehrsunfälle') & (df_2020['Month'] == 'Summe') & (df_2020['Accident_Type'] == 'insgesamt') )]\n",
        "Fluchtunfälle = df_2020[((df_2020['Category'] == 'Fluchtunfälle') & (df_2020['Month'] == 'Summe') &(df_2020['Accident_Type'] == 'insgesamt') )]\n",
        "Alkoholunfälle = df_2020[( (df_2020['Category'] == 'Alkoholunfälle') &(df_2020['Month'] == 'Summe') &(df_2020['Accident_Type'] == 'insgesamt') )]\n",
        "\n",
        "years = [i for i in range(2000, 2021)]\n",
        "years.sort(reverse=True)\n",
        "\n",
        "accidents_category = pd.DataFrame({\n",
        "        \"Verkehrsunfälle\": Verkehrsunfälle['Value'].to_numpy(),\n",
        "        \"Fluchtunfälle\": Fluchtunfälle['Value'].to_numpy(),\n",
        "        \"Alkoholunfälle\": Alkoholunfälle['Value'].to_numpy()  },\n",
        "    index= years )\n",
        "\n",
        "accidents_category.plot(kind='area',colormap='Accent',)\n",
        "plt.gcf().set_size_inches(9,6)\n",
        "accidents_category.plot(kind='bar', colormap='Accent', stacked= True)\n",
        "plt.gcf().set_size_inches(9,6)\n",
        "accidents_category.plot(kind='bar', colormap='Accent')\n",
        "plt.gcf().set_size_inches(9,6)\n",
        "accidents_category.plot(colormap='Accent')\n",
        "plt.gcf().set_size_inches(9,6)"
      ],
      "metadata": {
        "colab": {
          "base_uri": "https://localhost:8080/",
          "height": 1000
        },
        "id": "dkkHAcS2SL0g",
        "outputId": "7a72c139-1f55-4b70-b8fc-02acf9129073"
      },
      "execution_count": 131,
      "outputs": [
        {
          "output_type": "display_data",
          "data": {
            "text/plain": [
              "<Figure size 648x432 with 1 Axes>"
            ],
            "image/png": "[encoded data removed]"
          },
          "metadata": {
            "needs_background": "light"
          }
        },
        {
          "output_type": "display_data",
          "data": {
            "text/plain": [
              "<Figure size 648x432 with 1 Axes>"
            ],
            "image/png": "[encoded data removed]"
          },
          "metadata": {
            "needs_background": "light"
          }
        },
        {
          "output_type": "display_data",
          "data": {
            "text/plain": [
              "<Figure size 648x432 with 1 Axes>"
            ],
            "image/png": "[encoded data removed]"
          },
          "metadata": {
            "needs_background": "light"
          }
        },
        {
          "output_type": "display_data",
          "data": {
            "text/plain": [
              "<Figure size 648x432 with 1 Axes>"
            ],
            "image/png": "[encoded data removed]"
          },
          "metadata": {
            "needs_background": "light"
          }
        }
      ]
    },
    {
      "cell_type": "code",
      "source": [
        "# Plot Number of accidents per category\n",
        "plot = sns.catplot(x=\"Category\", kind=\"count\", data=df, palette=\"Accent\")\n",
        "plt.title('Number of accidents per category')\n",
        "plt.gcf().set_size_inches(9,6)\n",
        "\n",
        "# Plot Number of accidents per Accident Type\n",
        "plot = sns.catplot(x=\"Accident_Type\", kind=\"count\", data=df, palette=\"Accent\")\n",
        "plt.title('Number of accidents per Accident Type')\n",
        "plt.gcf().set_size_inches(9,6)"
      ],
      "metadata": {
        "colab": {
          "base_uri": "https://localhost:8080/",
          "height": 877
        },
        "id": "EPG1Ku47SLwF",
        "outputId": "c4d30838-74c6-4415-ec68-cd64c424bf75"
      },
      "execution_count": 56,
      "outputs": [
        {
          "output_type": "display_data",
          "data": {
            "text/plain": [
              "<Figure size 648x432 with 1 Axes>"
            ],
            "image/png": "[encoded data removed]"
          },
          "metadata": {
            "needs_background": "light"
          }
        },
        {
          "output_type": "display_data",
          "data": {
            "text/plain": [
              "<Figure size 648x432 with 1 Axes>"
            ],
            "image/png": "[encoded data removed]"
          },
          "metadata": {
            "needs_background": "light"
          }
        }
      ]
    },
    {
      "cell_type": "code",
      "source": [
        "df"
      ],
      "metadata": {
        "id": "hVaSCv2PRAg1",
        "colab": {
          "base_uri": "https://localhost:8080/",
          "height": 423
        },
        "outputId": "623aa4c9-14a1-46cb-cc24-d4480f2550ad"
      },
      "execution_count": null,
      "outputs": [
        {
          "output_type": "execute_result",
          "data": {
            "text/plain": [
              "             Category           Accident_Type  Year  Month  Value\n",
              "0      Alkoholunfälle               insgesamt  2020      1     28\n",
              "1      Alkoholunfälle               insgesamt  2020      2     40\n",
              "2      Alkoholunfälle               insgesamt  2020      3     27\n",
              "3      Alkoholunfälle               insgesamt  2020      4     26\n",
              "4      Alkoholunfälle               insgesamt  2020      5     40\n",
              "...               ...                     ...   ...    ...    ...\n",
              "1759  Verkehrsunfälle  Verletzte und Getötete  2000      8    647\n",
              "1760  Verkehrsunfälle  Verletzte und Getötete  2000      9    675\n",
              "1761  Verkehrsunfälle  Verletzte und Getötete  2000     10    615\n",
              "1762  Verkehrsunfälle  Verletzte und Getötete  2000     11    578\n",
              "1763  Verkehrsunfälle  Verletzte und Getötete  2000     12    515\n",
              "\n",
              "[1764 rows x 5 columns]"
            ],
            "text/html": [
              "\n",
              "  <div id=\"df-bee61bb3-2035-4f54-a289-22ec4b996367\">\n",
              "    <div class=\"colab-df-container\">\n",
              "      <div>\n",
              "<style scoped>\n",
              "    .dataframe tbody tr th:only-of-type {\n",
              "        vertical-align: middle;\n",
              "    }\n",
              "\n",
              "    .dataframe tbody tr th {\n",
              "        vertical-align: top;\n",
              "    }\n",
              "\n",
              "    .dataframe thead th {\n",
              "        text-align: right;\n",
              "    }\n",
              "</style>\n",
              "<table border=\"1\" class=\"dataframe\">\n",
              "  <thead>\n",
              "    <tr style=\"text-align: right;\">\n",
              "      <th></th>\n",
              "      <th>Category</th>\n",
              "      <th>Accident_Type</th>\n",
              "      <th>Year</th>\n",
              "      <th>Month</th>\n",
              "      <th>Value</th>\n",
              "    </tr>\n",
              "  </thead>\n",
              "  <tbody>\n",
              "    <tr>\n",
              "      <th>0</th>\n",
              "      <td>Alkoholunfälle</td>\n",
              "      <td>insgesamt</td>\n",
              "      <td>2020</td>\n",
              "      <td>1</td>\n",
              "      <td>28</td>\n",
              "    </tr>\n",
              "    <tr>\n",
              "      <th>1</th>\n",
              "      <td>Alkoholunfälle</td>\n",
              "      <td>insgesamt</td>\n",
              "      <td>2020</td>\n",
              "      <td>2</td>\n",
              "      <td>40</td>\n",
              "    </tr>\n",
              "    <tr>\n",
              "      <th>2</th>\n",
              "      <td>Alkoholunfälle</td>\n",
              "      <td>insgesamt</td>\n",
              "      <td>2020</td>\n",
              "      <td>3</td>\n",
              "      <td>27</td>\n",
              "    </tr>\n",
              "    <tr>\n",
              "      <th>3</th>\n",
              "      <td>Alkoholunfälle</td>\n",
              "      <td>insgesamt</td>\n",
              "      <td>2020</td>\n",
              "      <td>4</td>\n",
              "      <td>26</td>\n",
              "    </tr>\n",
              "    <tr>\n",
              "      <th>4</th>\n",
              "      <td>Alkoholunfälle</td>\n",
              "      <td>insgesamt</td>\n",
              "      <td>2020</td>\n",
              "      <td>5</td>\n",
              "      <td>40</td>\n",
              "    </tr>\n",
              "    <tr>\n",
              "      <th>...</th>\n",
              "      <td>...</td>\n",
              "      <td>...</td>\n",
              "      <td>...</td>\n",
              "      <td>...</td>\n",
              "      <td>...</td>\n",
              "    </tr>\n",
              "    <tr>\n",
              "      <th>1759</th>\n",
              "      <td>Verkehrsunfälle</td>\n",
              "      <td>Verletzte und Getötete</td>\n",
              "      <td>2000</td>\n",
              "      <td>8</td>\n",
              "      <td>647</td>\n",
              "    </tr>\n",
              "    <tr>\n",
              "      <th>1760</th>\n",
              "      <td>Verkehrsunfälle</td>\n",
              "      <td>Verletzte und Getötete</td>\n",
              "      <td>2000</td>\n",
              "      <td>9</td>\n",
              "      <td>675</td>\n",
              "    </tr>\n",
              "    <tr>\n",
              "      <th>1761</th>\n",
              "      <td>Verkehrsunfälle</td>\n",
              "      <td>Verletzte und Getötete</td>\n",
              "      <td>2000</td>\n",
              "      <td>10</td>\n",
              "      <td>615</td>\n",
              "    </tr>\n",
              "    <tr>\n",
              "      <th>1762</th>\n",
              "      <td>Verkehrsunfälle</td>\n",
              "      <td>Verletzte und Getötete</td>\n",
              "      <td>2000</td>\n",
              "      <td>11</td>\n",
              "      <td>578</td>\n",
              "    </tr>\n",
              "    <tr>\n",
              "      <th>1763</th>\n",
              "      <td>Verkehrsunfälle</td>\n",
              "      <td>Verletzte und Getötete</td>\n",
              "      <td>2000</td>\n",
              "      <td>12</td>\n",
              "      <td>515</td>\n",
              "    </tr>\n",
              "  </tbody>\n",
              "</table>\n",
              "<p>1764 rows × 5 columns</p>\n",
              "</div>\n",
              "      <button class=\"colab-df-convert\" onclick=\"convertToInteractive('df-bee61bb3-2035-4f54-a289-22ec4b996367')\"\n",
              "              title=\"Convert this dataframe to an interactive table.\"\n",
              "              style=\"display:none;\">\n",
              "        \n",
              "  <svg xmlns=\"http://www.w3.org/2000/svg\" height=\"24px\"viewBox=\"0 0 24 24\"\n",
              "       width=\"24px\">\n",
              "    <path d=\"M0 0h24v24H0V0z\" fill=\"none\"/>\n",
              "    <path d=\"M18.56 5.44l.94 2.06.94-2.06 2.06-.94-2.06-.94-.94-2.06-.94 2.06-2.06.94zm-11 1L8.5 8.5l.94-2.06 2.06-.94-2.06-.94L8.5 2.5l-.94 2.06-2.06.94zm10 10l.94 2.06.94-2.06 2.06-.94-2.06-.94-.94-2.06-.94 2.06-2.06.94z\"/><path d=\"M17.41 7.96l-1.37-1.37c-.4-.4-.92-.59-1.43-.59-.52 0-1.04.2-1.43.59L10.3 9.45l-7.72 7.72c-.78.78-.78 2.05 0 2.83L4 21.41c.39.39.9.59 1.41.59.51 0 1.02-.2 1.41-.59l7.78-7.78 2.81-2.81c.8-.78.8-2.07 0-2.86zM5.41 20L4 18.59l7.72-7.72 1.47 1.35L5.41 20z\"/>\n",
              "  </svg>\n",
              "      </button>\n",
              "      \n",
              "  <style>\n",
              "    .colab-df-container {\n",
              "      display:flex;\n",
              "      flex-wrap:wrap;\n",
              "      gap: 12px;\n",
              "    }\n",
              "\n",
              "    .colab-df-convert {\n",
              "      background-color: #E8F0FE;\n",
              "      border: none;\n",
              "      border-radius: 50%;\n",
              "      cursor: pointer;\n",
              "      display: none;\n",
              "      fill: #1967D2;\n",
              "      height: 32px;\n",
              "      padding: 0 0 0 0;\n",
              "      width: 32px;\n",
              "    }\n",
              "\n",
              "    .colab-df-convert:hover {\n",
              "      background-color: #E2EBFA;\n",
              "      box-shadow: 0px 1px 2px rgba(60, 64, 67, 0.3), 0px 1px 3px 1px rgba(60, 64, 67, 0.15);\n",
              "      fill: #174EA6;\n",
              "    }\n",
              "\n",
              "    [theme=dark] .colab-df-convert {\n",
              "      background-color: #3B4455;\n",
              "      fill: #D2E3FC;\n",
              "    }\n",
              "\n",
              "    [theme=dark] .colab-df-convert:hover {\n",
              "      background-color: #434B5C;\n",
              "      box-shadow: 0px 1px 3px 1px rgba(0, 0, 0, 0.15);\n",
              "      filter: drop-shadow(0px 1px 2px rgba(0, 0, 0, 0.3));\n",
              "      fill: #FFFFFF;\n",
              "    }\n",
              "  </style>\n",
              "\n",
              "      <script>\n",
              "        const buttonEl =\n",
              "          document.querySelector('#df-bee61bb3-2035-4f54-a289-22ec4b996367 button.colab-df-convert');\n",
              "        buttonEl.style.display =\n",
              "          google.colab.kernel.accessAllowed ? 'block' : 'none';\n",
              "\n",
              "        async function convertToInteractive(key) {\n",
              "          const element = document.querySelector('#df-bee61bb3-2035-4f54-a289-22ec4b996367');\n",
              "          const dataTable =\n",
              "            await google.colab.kernel.invokeFunction('convertToInteractive',\n",
              "                                                     [key], {});\n",
              "          if (!dataTable) return;\n",
              "\n",
              "          const docLinkHtml = 'Like what you see? Visit the ' +\n",
              "            '<a target=\"_blank\" href=https://colab.research.google.com/notebooks/data_table.ipynb>data table notebook</a>'\n",
              "            + ' to learn more about interactive tables.';\n",
              "          element.innerHTML = '';\n",
              "          dataTable['output_type'] = 'display_data';\n",
              "          await google.colab.output.renderOutput(dataTable, element);\n",
              "          const docLink = document.createElement('div');\n",
              "          docLink.innerHTML = docLinkHtml;\n",
              "          element.appendChild(docLink);\n",
              "        }\n",
              "      </script>\n",
              "    </div>\n",
              "  </div>\n",
              "  "
            ]
          },
          "metadata": {},
          "execution_count": 38
        }
      ]
    },
    {
      "cell_type": "code",
      "source": [
        "import pandas as pd\n",
        "from sklearn.preprocessing import MinMaxScaler, StandardScaler, Normalizer\n",
        "\n",
        "# # Load the dataset\n",
        "# df = pd.read_csv('data.csv')\n",
        "df_scaling = df.copy()\n",
        "# Select the column to scale\n",
        "features = ['Year',\"Month\",'Value']\n",
        "for i in features:\n",
        "  print('+'*30)\n",
        "  print('column name:',i)\n",
        "  col = df_scaling['Year']\n",
        "\n",
        "  # Compute some descriptive statistics\n",
        "  print('Mean:', round(col.mean(),2))\n",
        "  print('Standard deviation:', round(col.std(),2))\n",
        "  print('Minimum:', col.min())\n",
        "  print('Maximum:', col.max())\n",
        "  print('*'*20)\n",
        "  # Create instances of each scaler\n",
        "  scalers = [\n",
        "      ('min-max', MinMaxScaler()),\n",
        "      ('standard', StandardScaler()),\n",
        "      ('normalize', Normalizer())\n",
        "  ]\n",
        "\n",
        "  # Scale the column using each scaler and print some statistics\n",
        "  for name, scaler in scalers:\n",
        "      scaled_col = scaler.fit_transform(col.values.reshape(-1, 1))\n",
        "      print(name)\n",
        "      print('Mean:', round(scaled_col.mean(),1))\n",
        "      print('Standard deviation:', round(scaled_col.std(),2))\n",
        "      print('Minimum:', round(scaled_col.min(),2))\n",
        "      print('Maximum:', round(scaled_col.max(),2))\n",
        "      print('-'*20)\n",
        "\n"
      ],
      "metadata": {
        "id": "YWG2EkZrRAbz",
        "colab": {
          "base_uri": "https://localhost:8080/"
        },
        "outputId": "83a847ee-af3f-4378-986a-ef54385a7dd8"
      },
      "execution_count": 45,
      "outputs": [
        {
          "output_type": "stream",
          "name": "stdout",
          "text": [
            "++++++++++++++++++++++++++++++\n",
            "column name: Year\n",
            "Mean: 2010.0\n",
            "Standard deviation: 6.06\n",
            "Minimum: 2000\n",
            "Maximum: 2020\n",
            "********************\n",
            "min-max\n",
            "Mean: 0.5\n",
            "Standard deviation: 0.3\n",
            "Minimum: 0.0\n",
            "Maximum: 1.0\n",
            "--------------------\n",
            "standard\n",
            "Mean: 0.0\n",
            "Standard deviation: 1.0\n",
            "Minimum: -1.65\n",
            "Maximum: 1.65\n",
            "--------------------\n",
            "normalize\n",
            "Mean: 1.0\n",
            "Standard deviation: 0.0\n",
            "Minimum: 1.0\n",
            "Maximum: 1.0\n",
            "--------------------\n",
            "++++++++++++++++++++++++++++++\n",
            "column name: Month\n",
            "Mean: 2010.0\n",
            "Standard deviation: 6.06\n",
            "Minimum: 2000\n",
            "Maximum: 2020\n",
            "********************\n",
            "min-max\n",
            "Mean: 0.5\n",
            "Standard deviation: 0.3\n",
            "Minimum: 0.0\n",
            "Maximum: 1.0\n",
            "--------------------\n",
            "standard\n",
            "Mean: 0.0\n",
            "Standard deviation: 1.0\n",
            "Minimum: -1.65\n",
            "Maximum: 1.65\n",
            "--------------------\n",
            "normalize\n",
            "Mean: 1.0\n",
            "Standard deviation: 0.0\n",
            "Minimum: 1.0\n",
            "Maximum: 1.0\n",
            "--------------------\n",
            "++++++++++++++++++++++++++++++\n",
            "column name: Value\n",
            "Mean: 2010.0\n",
            "Standard deviation: 6.06\n",
            "Minimum: 2000\n",
            "Maximum: 2020\n",
            "********************\n",
            "min-max\n",
            "Mean: 0.5\n",
            "Standard deviation: 0.3\n",
            "Minimum: 0.0\n",
            "Maximum: 1.0\n",
            "--------------------\n",
            "standard\n",
            "Mean: 0.0\n",
            "Standard deviation: 1.0\n",
            "Minimum: -1.65\n",
            "Maximum: 1.65\n",
            "--------------------\n",
            "normalize\n",
            "Mean: 1.0\n",
            "Standard deviation: 0.0\n",
            "Minimum: 1.0\n",
            "Maximum: 1.0\n",
            "--------------------\n"
          ]
        }
      ]
    },
    {
      "cell_type": "markdown",
      "source": [
        "Observation:\n",
        "\n",
        " Based on the statistics provided, I would suggest using the StandardScaler for the \"Year\" and \"Month\" columns and the MinMaxScaler for the \"Value\" column.\n",
        "\n",
        "For the \"Year\" and \"Month\" columns, the values are numeric and have a range of 2000-2020. Using the StandardScaler will standardize the values to have a mean of 0 and a standard deviation of 1, which can help improve the performance of models that are sensitive to the scale of the features.\n",
        "\n",
        "For the \"Value\" column, the values represent the number of accidents and have a range of unknown size. Using the MinMaxScaler will scale the values to the range of 0-1, which can help preserve the distribution of the data and ensure that all values fall within a specific range."
      ],
      "metadata": {
        "id": "2BHKLdy5dmHh"
      }
    },
    {
      "cell_type": "markdown",
      "source": [
        "**I am not using Scaling method. I observe very bad results.**"
      ],
      "metadata": {
        "id": "31xfuyLHOWXZ"
      }
    },
    {
      "cell_type": "code",
      "source": [
        "import numpy as np\n",
        "import pandas as pd\n",
        "from prophet import Prophet\n",
        "from sklearn.model_selection import RandomizedSearchCV\n",
        "from sklearn.linear_model import LinearRegression\n",
        "# from sklearn.linear_model import LinearRegression, Ridge, Lasso, ElasticNet\n",
        "from sklearn.ensemble import RandomForestRegressor,GradientBoostingRegressor\n",
        "from sklearn.tree import DecisionTreeRegressor\n",
        "from sklearn.svm import SVR\n",
        "from xgboost import XGBRegressor\n",
        "from lightgbm import LGBMRegressor\n",
        "# from catboost import CatBoostRegressor\n",
        "from statsmodels.tsa.arima.model import ARIMA\n",
        "from statsmodels.tsa.statespace.sarimax import SARIMAX\n",
        "# from statsmodels.tsa.vector_ar.var_model import VAR\n",
        "from sklearn.metrics import mean_squared_error, mean_absolute_error, mean_absolute_percentage_error,r2_score, explained_variance_score\n",
        "from sklearn.model_selection import train_test_split\n",
        "from prettytable import PrettyTable\n",
        "from sklearn.preprocessing import StandardScaler, MinMaxScaler\n",
        "\n",
        "\n",
        "import warnings\n",
        "warnings.filterwarnings('ignore')\n",
        "import logging\n",
        "logging.getLogger('cmdstanpy').setLevel(logging.WARNING)\n",
        "logging.getLogger('fbprophet').setLevel(logging.ERROR)"
      ],
      "metadata": {
        "id": "4E56BauWiFJh"
      },
      "execution_count": 46,
      "outputs": []
    },
    {
      "cell_type": "code",
      "source": [
        "# # Load the dataset\n",
        "# List of category and accident type combinations to train models for\n",
        "cat_acc_combos = [('Alkoholunfälle', 'insgesamt'), ('Fluchtunfälle', 'insgesamt'), ('Verkehrsunfälle', 'insgesamt')]\n",
        "\n",
        "\n",
        "mse_tot,rmse_tot,mae_tot,r2_tot,cod_tot,evs_tot = [],[],[],[],[],[]\n",
        "# Loop over each category and accident type combination\n",
        "for cat, acc_type in cat_acc_combos:\n",
        "\n",
        "    # Filter the data based on the selected category, accident type, month, and year\n",
        "    year = 2020\n",
        "    df_filtered = df[(df['Category'] == cat) & (df['Accident_Type'] == acc_type) & (df['Year'] <= year)] \n",
        "    # separate independent and dependent variables\n",
        "    df_filtered_lr_models = df_filtered.copy()\n",
        "    X = df_filtered_lr_models[['Year', 'Month']].values\n",
        "    y = df_filtered_lr_models['Value'].values\n",
        "    # split the data into training and testing sets\n",
        "    X_train, X_test, y_train, y_test = train_test_split(X, y, test_size=0.2, random_state=42)\n",
        "\n",
        "    # create a linear regression model\n",
        "    lr_model = LinearRegression()\n",
        "    # fit the model to the training data\n",
        "    lr_model.fit(X_train, y_train)\n",
        "    # make predictions on the testing data\n",
        "    lr_y_pred = lr_model.predict(X_test)\n",
        "    \n",
        "    # Decision Tree Regressor model\n",
        "    dt_model = DecisionTreeRegressor()\n",
        "    dt_model.fit(X_train, y_train)\n",
        "    dt_y_pred = dt_model.predict(X_test)\n",
        "\n",
        "    # Random Forest Regressor model\n",
        "    rf_model = RandomForestRegressor()\n",
        "    rf_model.fit(X_train, y_train)\n",
        "    rf_y_pred = rf_model.predict(X_test)\n",
        "\n",
        "    #Gradient Boosted Trees model\n",
        "    gbt_model =GradientBoostingRegressor()\n",
        "    gbt_model.fit(X_train, y_train)\n",
        "    # Make predictions on the testing data\n",
        "    gbt_y_pred = gbt_model.predict(X_test)   \n",
        "\n",
        "    # Support Vector Regressor model\n",
        "    svr_model = SVR()\n",
        "    svr_model.fit(X_train, y_train)\n",
        "    svr_y_pred = svr_model.predict(X_test)\n",
        "\n",
        "    # Support Vector Regressor model\n",
        "    XGB_model = XGBRegressor()\n",
        "    XGB_model.fit(X_train, y_train)\n",
        "    XGB_y_pred = XGB_model.predict(X_test)\n",
        "\n",
        "    # Support Vector Regressor model\n",
        "    LGBMR_model = LGBMRegressor()\n",
        "    LGBMR_model.fit(X_train, y_train)\n",
        "    LGBMR_y_pred = LGBMR_model.predict(X_test)\n",
        "    # Evaluate models\n",
        "    models = {'Linear Regression': lr_y_pred, 'Decision Tree': dt_y_pred, 'Random Forest': rf_y_pred, 'SVR': svr_y_pred, 'GBT': gbt_y_pred,'XGB': XGB_y_pred,'LGBMR': LGBMR_y_pred}\n",
        "    mse_sub_lst, rmse_sub_lst,mae_sub_lst,r2_sub_lst,cod_sub_lst,evs_sub_lst = [],[],[],[],[],[]\n",
        "    for model_name, y_pred in models.items():\n",
        "        mse = mean_squared_error(y_test, y_pred)\n",
        "        mse_sub_lst.append(round(mse,2))\n",
        "        rmse = mse ** 0.5\n",
        "        rmse_sub_lst.append(round(rmse,2))\n",
        "        mae = mean_absolute_error(y_test, y_pred)\n",
        "        mae_sub_lst.append(round(mae,2))\n",
        "        r2 = r2_score(y_test, y_pred)\n",
        "        r2_sub_lst.append(round(r2,3))\n",
        "        cod = 1 - (np.var(y_test - y_pred) / np.var(y_test))\n",
        "        cod_sub_lst.append(round(cod,2))\n",
        "        evs = explained_variance_score(y_test, y_pred)\n",
        "        evs_sub_lst.append(round(evs,2))\n",
        "    #----------------------------------------------\n",
        "    # Randomized Search CV with  Regression model\n",
        "    regressors = [RandomForestRegressor(), GradientBoostingRegressor(), XGBRegressor(),LGBMRegressor()] \n",
        "    for i,model in enumerate(regressors):\n",
        "        # set the hyperparameters to search over\n",
        "        param_distributions = {\n",
        "            'n_estimators': [100, 150, 200, 250, 300],\n",
        "            'max_depth': [None, 10, 20],\n",
        "            'min_samples_split': [2, 5, 10],\n",
        "            'min_samples_leaf': [1, 2, 4],\n",
        "            'max_features': ['auto', 'sqrt']    }\n",
        "\n",
        "        # perform the random search\n",
        "        random_search = RandomizedSearchCV(estimator=model, param_distributions=param_distributions, n_iter=10, cv=3, verbose=2, random_state=42, n_jobs=-1)\n",
        "        random_search.fit(X_train, y_train)\n",
        "        model_y_pred = random_search.predict(X_test)\n",
        "        # print the best hyperparameters and the corresponding score\n",
        "        # print('Best hyperparameters:', random_search.best_params_)\n",
        "        # print('Best score:', random_search.best_score_)\n",
        "        # use the best hyperparameters to fit the model and make predictions on the testing data\n",
        "        # evaluate the model\n",
        "        rs_cv_mse = mean_squared_error(y_test, model_y_pred)\n",
        "        mse_sub_lst.append(round(rs_cv_mse,2))\n",
        "        rs_cv_rmse = np.sqrt(rs_cv_mse)                 \n",
        "        rmse_sub_lst.append(round(rs_cv_rmse,2))\n",
        "        rs_cv_mae = mean_absolute_error(y_test, model_y_pred)\n",
        "        mae_sub_lst.append(round(rs_cv_mae,2))\n",
        "        rs_cv_r2 = r2_score(y_test, model_y_pred)\n",
        "        r2_sub_lst.append(round(rs_cv_r2,3))\n",
        "        rs_cv_cod = 1 - (np.var(y_test - model_y_pred) / np.var(y_test))\n",
        "        cod_sub_lst.append(round(rs_cv_cod,2))\n",
        "        rs_cv_evs = explained_variance_score(y_test, model_y_pred)\n",
        "        evs_sub_lst.append(round(rs_cv_evs,2))      \n",
        "  #---------------------------------------------          \n",
        "\n",
        "    mse_tot.append(mse_sub_lst),rmse_tot.append(rmse_sub_lst),mae_tot.append(mae_sub_lst),r2_tot.append(r2_sub_lst),cod_tot.append(cod_sub_lst),evs_tot.append(evs_sub_lst)\n"
      ],
      "metadata": {
        "id": "LdGbemlCvcBT",
        "colab": {
          "base_uri": "https://localhost:8080/"
        },
        "outputId": "ef53f5af-53eb-4bec-b3b1-59c86e7e01f1"
      },
      "execution_count": 50,
      "outputs": [
        {
          "output_type": "stream",
          "name": "stdout",
          "text": [
            "Fitting 3 folds for each of 10 candidates, totalling 30 fits\n",
            "Fitting 3 folds for each of 10 candidates, totalling 30 fits\n",
            "Fitting 3 folds for each of 10 candidates, totalling 30 fits\n",
            "[01:18:42] WARNING: ../src/learner.cc:767: \n",
            "Parameters: { \"max_features\", \"min_samples_leaf\", \"min_samples_split\" } are not used.\n",
            "\n",
            "Fitting 3 folds for each of 10 candidates, totalling 30 fits\n",
            "Fitting 3 folds for each of 10 candidates, totalling 30 fits\n",
            "Fitting 3 folds for each of 10 candidates, totalling 30 fits\n",
            "Fitting 3 folds for each of 10 candidates, totalling 30 fits\n",
            "[01:18:58] WARNING: ../src/learner.cc:767: \n",
            "Parameters: { \"max_features\", \"min_samples_leaf\", \"min_samples_split\" } are not used.\n",
            "\n",
            "Fitting 3 folds for each of 10 candidates, totalling 30 fits\n",
            "Fitting 3 folds for each of 10 candidates, totalling 30 fits\n",
            "Fitting 3 folds for each of 10 candidates, totalling 30 fits\n",
            "Fitting 3 folds for each of 10 candidates, totalling 30 fits\n",
            "[01:19:13] WARNING: ../src/learner.cc:767: \n",
            "Parameters: { \"max_features\", \"min_samples_leaf\", \"min_samples_split\" } are not used.\n",
            "\n",
            "Fitting 3 folds for each of 10 candidates, totalling 30 fits\n"
          ]
        }
      ]
    },
    {
      "cell_type": "code",
      "source": [
        "cat_acc_combos = [('Alkoholunfälle', 'insgesamt'), ('Fluchtunfälle', 'insgesamt'), ('Verkehrsunfälle', 'insgesamt')]\n",
        "\n",
        "# Loop over each category and accident type combination\n",
        "for cat, acc_type in cat_acc_combos:\n",
        "\n",
        "    # Filter the data based on the selected category, accident type, month, and year\n",
        "    year = 2020\n",
        "    df_filtered = df[(df['Category'] == cat) & (df['Accident_Type'] == acc_type) & (df['Year'] <= year)]\n",
        "    #-------------------------------------------------------------------------------------------------\n",
        "    # Aggregate the values for each month for the above filter using groupby and sum\n",
        "    df_prophet = df_filtered.copy()\n",
        "    monthly_values = df_prophet.groupby(['Year', 'Month'])['Value'].sum().reset_index()\n",
        "\n",
        "    # rename the columns to work with Prophet\n",
        "    monthly_values.rename(columns={'Value': 'y'}, inplace=True)\n",
        "    monthly_values['ds'] = pd.to_datetime(monthly_values['Year'].astype(str) + monthly_values['Month'].astype(str), format='%Y%m')\n",
        "\n",
        "    # Split the data into training and testing sets\n",
        "    train_df, test_df = train_test_split(monthly_values, test_size=0.2, random_state=42)\n",
        "\n",
        "    # create a Prophet model and fit it to the training data\n",
        "    model = Prophet( weekly_seasonality=True,daily_seasonality=True )\n",
        "    model.fit(train_df[['ds', 'y']])\n",
        "\n",
        "    # create a dataframe with the dates for which we want to forecast the values\n",
        "    future_dates = model.make_future_dataframe(periods=len(test_df), freq='MS', include_history=False)\n",
        "\n",
        "    # get the forecasted values for the test data\n",
        "    forecast = model.predict(future_dates)\n",
        "\n",
        "    # get the forecasted values for the test data\n",
        "    forecasted_values = forecast['yhat'].values\n",
        "\n",
        "    # get the actual values for the test data\n",
        "    actual_values = test_df['y'].values\n",
        "\n",
        "    # compute the evaluation metrics for the test data\n",
        "    prophet_mae = mean_absolute_error(actual_values, forecasted_values)\n",
        "    prophet_mape = np.mean(np.abs((actual_values - forecasted_values) / actual_values)) * 100\n",
        "    prophet_mse = mean_squared_error(actual_values, forecasted_values)\n",
        "    prophet_rmse = mse**0.5\n",
        "    prophet_cod = 1 - (np.var(actual_values - forecasted_values) / np.var(actual_values))\n",
        "    prophet_evs = explained_variance_score(actual_values, forecasted_values)\n",
        "    # compute the R2 score\n",
        "    prophet_r2 = r2_score(actual_values, forecasted_values)\n",
        "\n",
        "    #-------------------------------------------------------------------------------------------------\n",
        "\n",
        "    #ARIMA\n",
        "    df_ARIMA= df_filtered.copy()\n",
        "    # Aggregate the values for each month for the above filter using groupby and sum\n",
        "    monthly_values_ARIMA = df_ARIMA.groupby(['Year', 'Month'])['Value'].sum().reset_index()\n",
        "    # rename the columns\n",
        "    monthly_values_ARIMA.columns = ['year', 'month', 'y']\n",
        "    monthly_values_ARIMA['y'] = monthly_values_ARIMA['y'].to_numpy().astype(float)   \n",
        "    # Split the data into training and testing sets\n",
        "    train_df, test_df = train_test_split(monthly_values_ARIMA, test_size=0.2, random_state=42)\n",
        "    # ensure that the 'y' column is of the correct data type\n",
        "    # train['y'] = train['y'].to_numpy().astype(float)\n",
        "    # fit the ARIMA model\n",
        "    model = ARIMA(train_df['y'], order=(1, 1, 1))\n",
        "    model_fit = model.fit()\n",
        "\n",
        "    # make predictions on the test set\n",
        "    predictions = model_fit.forecast(len(test_df))\n",
        "\n",
        "    # calculate the mean squared error and mean absolute error\n",
        "    ARIMA_mse = mean_squared_error(test_df['y'], predictions)\n",
        "    ARIMA_mae = mean_absolute_error(test_df['y'], predictions)\n",
        "    ARIMA_mape = np.mean(np.abs(predictions - test_df['y'])/np.abs(test_df['y'])) * 100\n",
        "    ARIMA_r2 = r2_score(test_df['y'], predictions)\n",
        "    ARIMA_rmse = ARIMA_mse**0.5\n",
        "    ARIMA_cod = 1 - (np.var(test_df['y'] - predictions) / np.var(test_df['y']))\n",
        "    ARIMA_evs = explained_variance_score(test_df['y'], predictions)\n",
        "\n",
        "    #----------------------------------------\n",
        "    #SARIMA\n",
        "    # fit the SARIMA model\n",
        "    model = SARIMAX(train_df['y'], order=(1, 1, 1), seasonal_order=(0, 0, 0, 12))\n",
        "    model_fit = model.fit()\n",
        "\n",
        "    # make predictions on the test set\n",
        "    predictions = model_fit.forecast(len(test_df))\n",
        "\n",
        "    # calculate the mean squared error and mean absolute error\n",
        "    SARIMA_mse = mean_squared_error(test_df['y'], predictions)\n",
        "    SARIMA_mae = mean_absolute_error(test_df['y'], predictions)\n",
        "    SARIMA_mape = np.mean(np.abs(predictions - test_df['y'])/np.abs(test_df['y'])) * 100\n",
        "    # calculate the R2 score\n",
        "    SARIMA_r2 = r2_score(test_df['y'], predictions)\n",
        "    SARIMA_rmse =  SARIMA_mse**0.5\n",
        "    SARIMA_cod = 1 - (np.var(test_df['y'] - predictions) / np.var(test_df['y']))\n",
        "    SARIMA_evs = explained_variance_score(test_df['y'], predictions)"
      ],
      "metadata": {
        "colab": {
          "base_uri": "https://localhost:8080/"
        },
        "id": "Fp0va4Ii4yDi",
        "outputId": "83b4ebad-4915-4fe2-8c50-eb03ef4394ca"
      },
      "execution_count": 51,
      "outputs": [
        {
          "output_type": "stream",
          "name": "stderr",
          "text": [
            "DEBUG:cmdstanpy:input tempfile: /tmp/tmp4j6c_w44/6n4x7fux.json\n",
            "DEBUG:cmdstanpy:input tempfile: /tmp/tmp4j6c_w44/hv7ozjq3.json\n",
            "DEBUG:cmdstanpy:idx 0\n",
            "DEBUG:cmdstanpy:running CmdStan, num_threads: None\n",
            "DEBUG:cmdstanpy:CmdStan args: ['/usr/local/lib/python3.9/dist-packages/prophet/stan_model/prophet_model.bin', 'random', 'seed=65213', 'data', 'file=/tmp/tmp4j6c_w44/6n4x7fux.json', 'init=/tmp/tmp4j6c_w44/hv7ozjq3.json', 'output', 'file=/tmp/tmp4j6c_w44/prophet_modelle9ddew1/prophet_model-20230317011930.csv', 'method=optimize', 'algorithm=lbfgs', 'iter=10000']\n",
            "01:19:30 - cmdstanpy - INFO - Chain [1] start processing\n",
            "INFO:cmdstanpy:Chain [1] start processing\n",
            "01:19:31 - cmdstanpy - INFO - Chain [1] done processing\n",
            "INFO:cmdstanpy:Chain [1] done processing\n",
            "DEBUG:cmdstanpy:input tempfile: /tmp/tmp4j6c_w44/u_psrq3f.json\n",
            "DEBUG:cmdstanpy:input tempfile: /tmp/tmp4j6c_w44/ebldxzwg.json\n",
            "DEBUG:cmdstanpy:idx 0\n",
            "DEBUG:cmdstanpy:running CmdStan, num_threads: None\n",
            "DEBUG:cmdstanpy:CmdStan args: ['/usr/local/lib/python3.9/dist-packages/prophet/stan_model/prophet_model.bin', 'random', 'seed=87166', 'data', 'file=/tmp/tmp4j6c_w44/u_psrq3f.json', 'init=/tmp/tmp4j6c_w44/ebldxzwg.json', 'output', 'file=/tmp/tmp4j6c_w44/prophet_modellya3_9my/prophet_model-20230317011931.csv', 'method=optimize', 'algorithm=lbfgs', 'iter=10000']\n",
            "01:19:31 - cmdstanpy - INFO - Chain [1] start processing\n",
            "INFO:cmdstanpy:Chain [1] start processing\n",
            "01:19:32 - cmdstanpy - INFO - Chain [1] done processing\n",
            "INFO:cmdstanpy:Chain [1] done processing\n",
            "DEBUG:cmdstanpy:input tempfile: /tmp/tmp4j6c_w44/czmvnvyu.json\n",
            "DEBUG:cmdstanpy:input tempfile: /tmp/tmp4j6c_w44/gnx4r59u.json\n",
            "DEBUG:cmdstanpy:idx 0\n",
            "DEBUG:cmdstanpy:running CmdStan, num_threads: None\n",
            "DEBUG:cmdstanpy:CmdStan args: ['/usr/local/lib/python3.9/dist-packages/prophet/stan_model/prophet_model.bin', 'random', 'seed=33014', 'data', 'file=/tmp/tmp4j6c_w44/czmvnvyu.json', 'init=/tmp/tmp4j6c_w44/gnx4r59u.json', 'output', 'file=/tmp/tmp4j6c_w44/prophet_modelzik2dqbd/prophet_model-20230317011932.csv', 'method=optimize', 'algorithm=lbfgs', 'iter=10000']\n",
            "01:19:32 - cmdstanpy - INFO - Chain [1] start processing\n",
            "INFO:cmdstanpy:Chain [1] start processing\n",
            "01:19:32 - cmdstanpy - INFO - Chain [1] done processing\n",
            "INFO:cmdstanpy:Chain [1] done processing\n"
          ]
        }
      ]
    },
    {
      "cell_type": "code",
      "source": [],
      "metadata": {
        "id": "rtqTaYE8SIdh"
      },
      "execution_count": null,
      "outputs": []
    },
    {
      "cell_type": "markdown",
      "source": [
        "The choice of metrics to evaluate a regression model depends on the specific problem and the goals of the analysis. Here are some common metrics that can be used to evaluate the performance of a regression model:\n",
        "\n",
        "* **Mean Squared Error (MSE):** Measures the average squared difference between the predicted values and the actual values. A lower MSE indicates better performance.\n",
        "\n",
        "* **Root Mean Squared Error (RMSE):** The square root of the MSE, expressed in the same units as the target variable. A lower RMSE indicates better performance.\n",
        "\n",
        "* **Mean Absolute Error (MAE):** Measures the average absolute difference between the predicted values and the actual values. A lower MAE indicates better performance.\n",
        "\n",
        "* **Median Absolute Error (MedAE):** Measures the median absolute difference between the predicted values and the actual values. This metric is less sensitive to outliers than the MAE.\n",
        "\n",
        "* **R-squared (R2):** Measures the proportion of variance in the target variable that is explained by the model. R2 values range from 0 to 1, with higher values indicating better performance.\n",
        "\n",
        "When evaluating your model, it is important to consider the specific requirements and constraints of the problem, such as the acceptable level of error, the range of values in the target variable, and the presence of outliers or imbalanced data. It is also recommended to compare the performance of your model to a baseline model or to other models to determine if it is performing well."
      ],
      "metadata": {
        "id": "kcMPozhW8f3w"
      }
    },
    {
      "cell_type": "code",
      "source": [
        "models = {'Linear Regression': lr_y_pred, 'Decision Tree': dt_y_pred, 'Random Forest': rf_y_pred, 'SVR': svr_y_pred, 'GBT': gbt_y_pred,'XGB': XGB_y_pred,'LGBMR': LGBMR_y_pred}\n",
        "regressors = [RandomForestRegressor(), GradientBoostingRegressor(), XGBRegressor(),LGBMRegressor()] \n",
        "\n",
        "\n",
        "cat_acc_combos = [('Alkoholunfälle', 'insgesamt'), ('Fluchtunfälle', 'insgesamt'), ('Verkehrsunfälle', 'insgesamt')]\n",
        "# Loop over each category and accident type combination\n",
        "for i, val in enumerate(cat_acc_combos):\n",
        "    cat, acc_type = val\n",
        "    x = PrettyTable()\n",
        "    x.field_names = [\"Category\", \"Accident_Type\",\"Model\",\"MSE\",\"RMSE\",\"MAE\",\"R2\",\"COD\",\"EVS\"]\n",
        "\n",
        "    x.add_row([cat, acc_type,\"Prophet\",round(prophet_mse,2),round(prophet_rmse,2),round(prophet_mae,2),round(prophet_r2,3),round(prophet_cod,2),round(prophet_evs,2) ])\n",
        "    x.add_row([cat, acc_type,\"ARIMA\",round(ARIMA_mse,2),round(ARIMA_rmse,2),round(ARIMA_mae,2),round(ARIMA_r2,3),round(ARIMA_cod,2),round(ARIMA_evs,2) ]) \n",
        "    x.add_row([cat, acc_type,\"SARIMA\",round(SARIMA_mse,2),round(SARIMA_rmse,2),round(SARIMA_mae,2),round(SARIMA_r2,3),round(SARIMA_cod,2),round(SARIMA_evs) ])\n",
        "\n",
        "    x.add_row([cat, acc_type,\"Linear Regression\",mse_tot[i][0],rmse_tot[i][0],mae_tot[i][0],r2_tot[i][0],cod_tot[i][0],evs_tot[i][0] ]) \n",
        "    x.add_row([cat, acc_type,\"Decision Tree\",mse_tot[i][1],rmse_tot[i][1],mae_tot[i][1],r2_tot[i][1],cod_tot[i][1],evs_tot[i][1]])\n",
        "    x.add_row([cat, acc_type,\"Random Forest\",mse_tot[i][2],rmse_tot[i][2],mae_tot[i][2],r2_tot[i][2],cod_tot[i][2],evs_tot[i][2] ]) \n",
        "    x.add_row([cat, acc_type,\"SVR\",mse_tot[i][3],rmse_tot[i][3],mae_tot[i][3],r2_tot[i][3],cod_tot[i][3],evs_tot[i][3] ]) \n",
        "    x.add_row([cat, acc_type,\"GBT\",mse_tot[i][4],rmse_tot[i][4],mae_tot[i][4],r2_tot[i][4],cod_tot[i][4],evs_tot[i][4] ]) \n",
        "    x.add_row([cat, acc_type,\"XGB\",mse_tot[i][5],rmse_tot[i][5],mae_tot[i][5],r2_tot[i][5],cod_tot[i][5],evs_tot[i][5] ]) \n",
        "    x.add_row([cat, acc_type,\"LGBMR\",mse_tot[i][6],rmse_tot[i][6],mae_tot[i][6],r2_tot[i][6],cod_tot[i][6],evs_tot[i][6] ]) \n",
        "\n",
        "    x.add_row([cat, acc_type,\"RandomSearch_CV-RF\",mse_tot[i][7],rmse_tot[i][7],mae_tot[i][7],r2_tot[i][7],cod_tot[i][7],evs_tot[i][7] ]) \n",
        "    x.add_row([cat, acc_type,\"RandomSearch_CV-GBT\",mse_tot[i][8],rmse_tot[i][8],mae_tot[i][8],r2_tot[i][8],cod_tot[i][8],evs_tot[i][8] ]) \n",
        "    x.add_row([cat, acc_type,\"RandomSearch_CV-XGB\",mse_tot[i][9],rmse_tot[i][9],mae_tot[i][9],r2_tot[i][9],cod_tot[i][9],evs_tot[i][9] ]) \n",
        "    x.add_row([cat, acc_type,\"RandomSearch_CV-LGBMR\",mse_tot[i][10],rmse_tot[i][10],mae_tot[i][10],r2_tot[i][10],cod_tot[i][10],evs_tot[i][10]]) \n",
        "\n",
        "    print(x)"
      ],
      "metadata": {
        "id": "utGPoc4k7aji",
        "colab": {
          "base_uri": "https://localhost:8080/"
        },
        "outputId": "d03239ca-53fe-460d-e0ce-ba64b43c5c7c"
      },
      "execution_count": 55,
      "outputs": [
        {
          "output_type": "stream",
          "name": "stdout",
          "text": [
            "+----------------+---------------+-----------------------+-----------+--------+--------+--------+-------+-------+\n",
            "|    Category    | Accident_Type |         Model         |    MSE    |  RMSE  |  MAE   |   R2   |  COD  |  EVS  |\n",
            "+----------------+---------------+-----------------------+-----------+--------+--------+--------+-------+-------+\n",
            "| Alkoholunfälle |   insgesamt   |        Prophet        | 475869.55 | 268.8  | 581.39 | -0.697 | -0.45 | -0.45 |\n",
            "| Alkoholunfälle |   insgesamt   |         ARIMA         | 286984.07 | 535.71 | 456.96 | -0.023 |  0.16 |  0.0  |\n",
            "| Alkoholunfälle |   insgesamt   |         SARIMA        | 286984.07 | 535.71 | 456.96 | -0.023 |  0.16 |   0   |\n",
            "| Alkoholunfälle |   insgesamt   |   Linear Regression   |   153.66  |  12.4  |  9.97  | 0.194  |  0.2  |  0.2  |\n",
            "| Alkoholunfälle |   insgesamt   |     Decision Tree     |   94.37   |  9.71  |  8.02  | 0.505  |  0.51 |  0.51 |\n",
            "| Alkoholunfälle |   insgesamt   |     Random Forest     |   62.55   |  7.91  |  6.16  | 0.672  |  0.68 |  0.68 |\n",
            "| Alkoholunfälle |   insgesamt   |          SVR          |   199.18  | 14.11  | 11.54  | -0.045 |  0.0  |  0.0  |\n",
            "| Alkoholunfälle |   insgesamt   |          GBT          |    57.6   |  7.59  |  5.95  | 0.698  |  0.71 |  0.71 |\n",
            "| Alkoholunfälle |   insgesamt   |          XGB          |    64.8   |  8.05  |  6.37  |  0.66  |  0.67 |  0.67 |\n",
            "| Alkoholunfälle |   insgesamt   |         LGBMR         |   67.76   |  8.23  |  6.56  | 0.644  |  0.65 |  0.65 |\n",
            "| Alkoholunfälle |   insgesamt   |   RandomSearch_CV-RF  |    70.4   |  8.39  |  6.73  | 0.631  |  0.64 |  0.64 |\n",
            "| Alkoholunfälle |   insgesamt   |  RandomSearch_CV-GBT  |   76.17   |  8.73  |  6.9   |  0.6   |  0.61 |  0.61 |\n",
            "| Alkoholunfälle |   insgesamt   |  RandomSearch_CV-XGB  |    64.8   |  8.05  |  6.37  |  0.66  |  0.67 |  0.67 |\n",
            "| Alkoholunfälle |   insgesamt   | RandomSearch_CV-LGBMR |   67.76   |  8.23  |  6.56  | 0.644  |  0.65 |  0.65 |\n",
            "+----------------+---------------+-----------------------+-----------+--------+--------+--------+-------+-------+\n",
            "+---------------+---------------+-----------------------+-----------+--------+--------+--------+-------+-------+\n",
            "|    Category   | Accident_Type |         Model         |    MSE    |  RMSE  |  MAE   |   R2   |  COD  |  EVS  |\n",
            "+---------------+---------------+-----------------------+-----------+--------+--------+--------+-------+-------+\n",
            "| Fluchtunfälle |   insgesamt   |        Prophet        | 475869.55 | 268.8  | 581.39 | -0.697 | -0.45 | -0.45 |\n",
            "| Fluchtunfälle |   insgesamt   |         ARIMA         | 286984.07 | 535.71 | 456.96 | -0.023 |  0.16 |  0.0  |\n",
            "| Fluchtunfälle |   insgesamt   |         SARIMA        | 286984.07 | 535.71 | 456.96 | -0.023 |  0.16 |   0   |\n",
            "| Fluchtunfälle |   insgesamt   |   Linear Regression   |  22996.23 | 151.65 | 116.8  | 0.096  |  0.1  |  0.1  |\n",
            "| Fluchtunfälle |   insgesamt   |     Decision Tree     |  12313.73 | 110.97 | 82.86  | 0.516  |  0.52 |  0.52 |\n",
            "| Fluchtunfälle |   insgesamt   |     Random Forest     |  9830.81  | 99.15  | 73.48  | 0.614  |  0.61 |  0.61 |\n",
            "| Fluchtunfälle |   insgesamt   |          SVR          |  25521.3  | 159.75 | 122.24 | -0.003 |  0.0  |  0.0  |\n",
            "| Fluchtunfälle |   insgesamt   |          GBT          |  10154.17 | 100.77 | 75.02  | 0.601  |  0.6  |  0.6  |\n",
            "| Fluchtunfälle |   insgesamt   |          XGB          |  10182.72 | 100.91 | 73.06  |  0.6   |  0.61 |  0.61 |\n",
            "| Fluchtunfälle |   insgesamt   |         LGBMR         |  11461.87 | 107.06 | 76.03  |  0.55  |  0.55 |  0.55 |\n",
            "| Fluchtunfälle |   insgesamt   |   RandomSearch_CV-RF  |  12165.14 | 110.3  | 79.84  | 0.522  |  0.52 |  0.52 |\n",
            "| Fluchtunfälle |   insgesamt   |  RandomSearch_CV-GBT  |  8618.62  | 92.84  |  68.8  | 0.661  |  0.66 |  0.66 |\n",
            "| Fluchtunfälle |   insgesamt   |  RandomSearch_CV-XGB  |  9373.33  | 96.82  | 70.46  | 0.632  |  0.64 |  0.64 |\n",
            "| Fluchtunfälle |   insgesamt   | RandomSearch_CV-LGBMR |  11461.87 | 107.06 | 76.03  |  0.55  |  0.55 |  0.55 |\n",
            "+---------------+---------------+-----------------------+-----------+--------+--------+--------+-------+-------+\n",
            "+-----------------+---------------+-----------------------+-----------+--------+--------+--------+-------+-------+\n",
            "|     Category    | Accident_Type |         Model         |    MSE    |  RMSE  |  MAE   |   R2   |  COD  |  EVS  |\n",
            "+-----------------+---------------+-----------------------+-----------+--------+--------+--------+-------+-------+\n",
            "| Verkehrsunfälle |   insgesamt   |        Prophet        | 475869.55 | 268.8  | 581.39 | -0.697 | -0.45 | -0.45 |\n",
            "| Verkehrsunfälle |   insgesamt   |         ARIMA         | 286984.07 | 535.71 | 456.96 | -0.023 |  0.16 |  0.0  |\n",
            "| Verkehrsunfälle |   insgesamt   |         SARIMA        | 286984.07 | 535.71 | 456.96 | -0.023 |  0.16 |   0   |\n",
            "| Verkehrsunfälle |   insgesamt   |   Linear Regression   | 190406.83 | 436.36 | 345.47 | 0.219  |  0.22 |  0.22 |\n",
            "| Verkehrsunfälle |   insgesamt   |     Decision Tree     | 105933.24 | 325.47 | 236.18 | 0.565  |  0.57 |  0.57 |\n",
            "| Verkehrsunfälle |   insgesamt   |     Random Forest     |  54950.0  | 234.41 | 166.22 | 0.774  |  0.78 |  0.78 |\n",
            "| Verkehrsunfälle |   insgesamt   |          SVR          | 243957.67 | 493.92 | 394.52 | -0.001 |  0.0  |  0.0  |\n",
            "| Verkehrsunfälle |   insgesamt   |          GBT          |  38605.96 | 196.48 | 151.65 | 0.842  |  0.84 |  0.84 |\n",
            "| Verkehrsunfälle |   insgesamt   |          XGB          |  72669.09 | 269.57 | 202.41 | 0.702  |  0.7  |  0.7  |\n",
            "| Verkehrsunfälle |   insgesamt   |         LGBMR         |  72251.2  | 268.8  | 193.06 | 0.703  |  0.7  |  0.7  |\n",
            "| Verkehrsunfälle |   insgesamt   |   RandomSearch_CV-RF  |  59523.64 | 243.97 | 182.2  | 0.756  |  0.76 |  0.76 |\n",
            "| Verkehrsunfälle |   insgesamt   |  RandomSearch_CV-GBT  |  59797.36 | 244.53 | 186.68 | 0.755  |  0.76 |  0.76 |\n",
            "| Verkehrsunfälle |   insgesamt   |  RandomSearch_CV-XGB  |  65215.93 | 255.37 | 202.29 | 0.732  |  0.73 |  0.73 |\n",
            "| Verkehrsunfälle |   insgesamt   | RandomSearch_CV-LGBMR |  61477.22 | 247.95 | 177.96 | 0.748  |  0.75 |  0.75 |\n",
            "+-----------------+---------------+-----------------------+-----------+--------+--------+--------+-------+-------+\n"
          ]
        }
      ]
    },
    {
      "cell_type": "markdown",
      "source": [
        "# **Observation:** \n",
        "\n",
        "* The table displays the performance metrics of different machine learning models for three categories of accidents: Alkoholunfälle (alcohol-related accidents), Fluchtunfälle (hit-and-run accidents), and Verkehrsunfälle (traffic accidents) across different accident types. The performance metrics used to evaluate the models are mean squared error (MSE), root mean squared error (RMSE), mean absolute error (MAE), R-squared (R2), coefficient of determination (COD), and explained variance score (EVS).\n",
        "\n",
        "* Observing the performance metrics, it can be seen that the decision tree, random forest, and gradient boosting tree models have the lowest MSE, RMSE, and MAE values and the highest R2, COD, and EVS values for all three categories of accidents. These models can be considered as good options for deploying predictive models for these types of accidents."
      ],
      "metadata": {
        "id": "VG9TRCGwRPRH"
      }
    },
    {
      "cell_type": "code",
      "source": [],
      "metadata": {
        "id": "IysmmtSrPUJ6"
      },
      "execution_count": null,
      "outputs": []
    }
  ]
}